{
 "cells": [
  {
   "cell_type": "code",
   "execution_count": 1,
   "metadata": {},
   "outputs": [
    {
     "name": "stdout",
     "output_type": "stream",
     "text": [
      "Inputs: [0, 0, 0] => Output: 0\n",
      "Inputs: [0, 0, 1] => Output: 0\n",
      "Inputs: [1, 1, 0] => Output: 1\n",
      "Inputs: [1, 1, 1] => Output: 1\n"
     ]
    }
   ],
   "source": [
    "import numpy as np\n",
    "\n",
    "# Define the McCulloch-Pitts Neuron\n",
    "class McCullochPittsNeuron:\n",
    "    def __init__(self, weights, threshold):\n",
    "        self.weights = np.array(weights)\n",
    "        self.threshold = threshold\n",
    "\n",
    "    def activate(self, inputs):\n",
    "        # Calculate the weighted sum\n",
    "        weighted_sum = np.dot(self.weights, inputs)\n",
    "        # Apply the threshold to determine the output\n",
    "        return 1 if weighted_sum >= self.threshold else 0\n",
    "\n",
    "# Initialize neuron with given weights and threshold\n",
    "weights = [1, 1, 1]  # Example weights for 3 inputs\n",
    "threshold = 2  # Example threshold\n",
    "neuron = McCullochPittsNeuron(weights, threshold)\n",
    "\n",
    "# Define various input sets to test the neuron\n",
    "inputs_list = [\n",
    "    [0, 0, 0],  # Case 1: All inputs are 0\n",
    "    [0, 0, 1],  # Case 2: Only one input is 1\n",
    "    [1, 1, 0],  # Case 3: Two inputs are 1\n",
    "    [1, 1, 1],  # Case 4: All inputs are 1\n",
    "]\n",
    "\n",
    "# Test the neuron with each set of inputs\n",
    "for inputs in inputs_list:\n",
    "    output = neuron.activate(inputs)\n",
    "    print(f\"Inputs: {inputs} => Output: {output}\")\n"
   ]
  }
 ],
 "metadata": {
  "kernelspec": {
   "display_name": "Python 3",
   "language": "python",
   "name": "python3"
  },
  "language_info": {
   "codemirror_mode": {
    "name": "ipython",
    "version": 3
   },
   "file_extension": ".py",
   "mimetype": "text/x-python",
   "name": "python",
   "nbconvert_exporter": "python",
   "pygments_lexer": "ipython3",
   "version": "3.12.2"
  }
 },
 "nbformat": 4,
 "nbformat_minor": 2
}
