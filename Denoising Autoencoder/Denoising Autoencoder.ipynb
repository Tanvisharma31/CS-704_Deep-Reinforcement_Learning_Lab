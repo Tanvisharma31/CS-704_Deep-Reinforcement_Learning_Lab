{
 "cells": [
  {
   "cell_type": "code",
   "execution_count": null,
   "metadata": {
    "vscode": {
     "languageId": "plaintext"
    }
   },
   "outputs": [],
   "source": [
    "import numpy as np\n",
    "import matplotlib.pyplot as plt\n",
    "from tensorflow.keras.datasets import mnist\n",
    "from tensorflow.keras.models import Model\n",
    "from tensorflow.keras.layers import Input, Dense, GaussianNoise\n",
    "from tensorflow.keras.optimizers import Adam\n",
    "\n",
    "# Load and preprocess the MNIST dataset\n",
    "(X_train, _), (X_test, _) = mnist.load_data()\n",
    "X_train = X_train.reshape(-1, 784) / 255.0\n",
    "X_test = X_test.reshape(-1, 784) / 255.0\n",
    "\n",
    "# Add random noise to the images\n",
    "noise_factor = 0.5\n",
    "X_train_noisy = X_train + noise_factor * np.random.normal(loc=0.0, scale=1.0, size=X_train.shape) \n",
    "X_test_noisy = X_test + noise_factor * np.random.normal(loc=0.0, scale=1.0, size=X_test.shape) \n",
    "X_train_noisy = np.clip(X_train_noisy, 0., 1.)\n",
    "X_test_noisy = np.clip(X_test_noisy, 0., 1.)\n",
    "\n",
    "# Define the Denoising Autoencoder Model\n",
    "input_img = Input(shape=(784,))\n",
    "# Encoder\n",
    "encoded = GaussianNoise(0.2)(input_img)  # additional noise layer for robustness\n",
    "encoded = Dense(128, activation='relu')(encoded)\n",
    "encoded = Dense(64, activation='relu')(encoded)\n",
    "encoded_output = Dense(32, activation='relu')(encoded)\n",
    "\n",
    "# Decoder\n",
    "decoded = Dense(64, activation='relu')(encoded_output)\n",
    "decoded = Dense(128, activation='relu')(decoded)\n",
    "decoded_output = Dense(784, activation='sigmoid')(decoded)\n",
    "\n",
    "# Autoencoder Model\n",
    "autoencoder = Model(input_img, decoded_output)\n",
    "autoencoder.compile(optimizer=Adam(), loss='mse')\n",
    "\n",
    "# Train the Autoencoder\n",
    "autoencoder.fit(X_train_noisy, X_train, epochs=10, batch_size=256, shuffle=True, validation_data=(X_test_noisy, X_test))\n",
    "\n",
    "# Denoise the test images\n",
    "denoised_images = autoencoder.predict(X_test_noisy)\n",
    "\n",
    "# Visualize original noisy and denoised images\n",
    "n = 10  # number of images to display\n",
    "plt.figure(figsize=(20, 6))\n",
    "for i in range(n):\n",
    "    # Display noisy image\n",
    "    ax = plt.subplot(3, n, i + 1)\n",
    "    plt.imshow(X_test_noisy[i].reshape(28, 28), cmap='gray')\n",
    "    plt.axis('off')\n",
    "    \n",
    "    # Display original image\n",
    "    ax = plt.subplot(3, n, i + 1 + n)\n",
    "    plt.imshow(X_test[i].reshape(28, 28), cmap='gray')\n",
    "    plt.axis('off')\n",
    "    \n",
    "    # Display denoised image\n",
    "    ax = plt.subplot(3, n, i + 1 + 2 * n)\n",
    "    plt.imshow(denoised_images[i].reshape(28, 28), cmap='gray')\n",
    "    plt.axis('off')\n",
    "\n",
    "plt.suptitle(\"Top: Noisy Images | Middle: Original Images | Bottom: Denoised Images\")\n",
    "plt.show()\n"
   ]
  }
 ],
 "metadata": {
  "language_info": {
   "name": "python"
  }
 },
 "nbformat": 4,
 "nbformat_minor": 2
}
