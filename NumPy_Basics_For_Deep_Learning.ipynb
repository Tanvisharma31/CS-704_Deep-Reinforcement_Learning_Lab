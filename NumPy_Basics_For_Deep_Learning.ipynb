{
  "nbformat": 4,
  "nbformat_minor": 0,
  "metadata": {
    "colab": {
      "provenance": [],
      "mount_file_id": "1FGSZMrONS1BzHzPjYAknN7WXWmO7Js6Z",
      "authorship_tag": "ABX9TyNkNlZfTxeyMP5AQvW/wT8y",
      "include_colab_link": true
    },
    "kernelspec": {
      "name": "python3",
      "display_name": "Python 3"
    },
    "language_info": {
      "name": "python"
    }
  },
  "cells": [
    {
      "cell_type": "markdown",
      "metadata": {
        "id": "view-in-github",
        "colab_type": "text"
      },
      "source": [
        "<a href=\"https://colab.research.google.com/github/Tanvisharma31/CS-704_Deep-Reinforcement_Learning_Lab/blob/m/NumPy_Basics_For_Deep_Learning.ipynb\" target=\"_parent\"><img src=\"https://colab.research.google.com/assets/colab-badge.svg\" alt=\"Open In Colab\"/></a>"
      ]
    },
    {
      "cell_type": "markdown",
      "source": [
        "# **NumPy** Basics For Deep Learning"
      ],
      "metadata": {
        "id": "BaE8pHYq5Tw4"
      }
    },
    {
      "cell_type": "markdown",
      "source": [
        "Remove the \"#\" for installing NumPy"
      ],
      "metadata": {
        "id": "aRn6fa3Hpoyi"
      }
    },
    {
      "cell_type": "code",
      "source": [
        "#!pip install numpy"
      ],
      "metadata": {
        "id": "FAUaNOibMfAH"
      },
      "execution_count": 36,
      "outputs": []
    },
    {
      "cell_type": "markdown",
      "source": [
        "Basic array creation"
      ],
      "metadata": {
        "id": "CSc3cudY5ZyX"
      }
    },
    {
      "cell_type": "markdown",
      "source": [
        "Q.1 Create a 1D array with the elements [1, 2, 3, 4, 5]."
      ],
      "metadata": {
        "id": "oTCXiXT8qB-8"
      }
    },
    {
      "cell_type": "code",
      "source": [
        "import numpy as np\n",
        "#create a 1d array\n",
        "array_1d = np.array([1,2,3,4,5])\n",
        "print(\"1D Array:\",array_1d)"
      ],
      "metadata": {
        "id": "DXv6B2IRCemA",
        "colab": {
          "base_uri": "https://localhost:8080/"
        },
        "outputId": "8936401b-b3f5-4ec9-89bd-061b4cb39946"
      },
      "execution_count": 37,
      "outputs": [
        {
          "output_type": "stream",
          "name": "stdout",
          "text": [
            "1D Array: [1 2 3 4 5]\n"
          ]
        }
      ]
    },
    {
      "cell_type": "markdown",
      "source": [
        "Q.2 Create a 2D array with the elements [[1, 2, 3], [4, 5, 6]]."
      ],
      "metadata": {
        "id": "e1pXK355qHSv"
      }
    },
    {
      "cell_type": "code",
      "source": [
        "#create a 2d array\n",
        "array_2d = np.array([[1,2,3],[4,5,6]])\n",
        "print(\"2D Array:\\n\",array_2d)"
      ],
      "metadata": {
        "id": "RIJc82b0Zoj8",
        "colab": {
          "base_uri": "https://localhost:8080/"
        },
        "outputId": "6742e40c-7c7a-4e6d-af26-a40899018560"
      },
      "execution_count": 38,
      "outputs": [
        {
          "output_type": "stream",
          "name": "stdout",
          "text": [
            "2D Array:\n",
            " [[1 2 3]\n",
            " [4 5 6]]\n"
          ]
        }
      ]
    },
    {
      "cell_type": "markdown",
      "source": [
        "Q.3 Create a 3x3 array filled with zeros."
      ],
      "metadata": {
        "id": "qrzg1ZdYqKa4"
      }
    },
    {
      "cell_type": "code",
      "source": [
        "#create an array with zeros\n",
        "zeros_array=np.zeros((3,3))\n",
        "print(\"Zeros Array:\\n\",zeros_array)"
      ],
      "metadata": {
        "colab": {
          "base_uri": "https://localhost:8080/"
        },
        "id": "7hGQtnr84lYO",
        "outputId": "bd39c9fc-a9f4-4457-83da-6c1bb0cb12cb"
      },
      "execution_count": 39,
      "outputs": [
        {
          "output_type": "stream",
          "name": "stdout",
          "text": [
            "Zeros Array:\n",
            " [[0. 0. 0.]\n",
            " [0. 0. 0.]\n",
            " [0. 0. 0.]]\n"
          ]
        }
      ]
    },
    {
      "cell_type": "markdown",
      "source": [
        "Q.4 Create a 2x2 array filled with ones."
      ],
      "metadata": {
        "id": "cwvinnKlqgmG"
      }
    },
    {
      "cell_type": "code",
      "source": [
        "#create an array with ones\n",
        "ones_array=np.ones((3,3))\n",
        "print(\"Ones Array:\\n\",ones_array)"
      ],
      "metadata": {
        "colab": {
          "base_uri": "https://localhost:8080/"
        },
        "id": "ysi8eir94-CB",
        "outputId": "75cde868-f95a-4201-bec4-de0bbdc31aab"
      },
      "execution_count": 40,
      "outputs": [
        {
          "output_type": "stream",
          "name": "stdout",
          "text": [
            "Ones Array:\n",
            " [[1. 1. 1.]\n",
            " [1. 1. 1.]\n",
            " [1. 1. 1.]]\n"
          ]
        }
      ]
    },
    {
      "cell_type": "markdown",
      "source": [
        "Array Operations"
      ],
      "metadata": {
        "id": "JOC0BBb55RDD"
      }
    },
    {
      "cell_type": "markdown",
      "source": [
        "Q.1 Create two arrays: a = [1, 2, 3] and b = [4, 5, 6]."
      ],
      "metadata": {
        "id": "DvmfmPSoqlaA"
      }
    },
    {
      "cell_type": "code",
      "source": [
        "#create two arrays\n",
        "a=np.array([1,2,3])\n",
        "b=np.array([4,5,6])\n"
      ],
      "metadata": {
        "id": "E6B24KNd5O-C"
      },
      "execution_count": 41,
      "outputs": []
    },
    {
      "cell_type": "markdown",
      "source": [
        "Q.2 Perform element-wise addition, subtraction, multiplication, and division on these arrays."
      ],
      "metadata": {
        "id": "bMU-yuNHqr6b"
      }
    },
    {
      "cell_type": "code",
      "source": [
        "#addition\n",
        "sum_array=np.add(a,b)\n",
        "print(\"Sum:\",sum_array)"
      ],
      "metadata": {
        "colab": {
          "base_uri": "https://localhost:8080/"
        },
        "id": "vTawXtMf5pxw",
        "outputId": "f31baa74-0aea-4a3f-e9d1-82270a032964"
      },
      "execution_count": 42,
      "outputs": [
        {
          "output_type": "stream",
          "name": "stdout",
          "text": [
            "Sum: [5 7 9]\n"
          ]
        }
      ]
    },
    {
      "cell_type": "code",
      "source": [
        "#subtraction\n",
        "diff_array=np.subtract(a,b)\n",
        "print(\"Difference:\",diff_array)"
      ],
      "metadata": {
        "colab": {
          "base_uri": "https://localhost:8080/"
        },
        "id": "A4yjhu7L51Re",
        "outputId": "1f3d3939-edc1-4698-aa49-e56a0e6159b7"
      },
      "execution_count": 43,
      "outputs": [
        {
          "output_type": "stream",
          "name": "stdout",
          "text": [
            "Difference: [-3 -3 -3]\n"
          ]
        }
      ]
    },
    {
      "cell_type": "code",
      "source": [
        "#Multiplication\n",
        "prod_array=np.multiply(a,b)\n",
        "print(\"Multiply:\",prod_array)\n"
      ],
      "metadata": {
        "colab": {
          "base_uri": "https://localhost:8080/"
        },
        "id": "zjfGujCK6Bbo",
        "outputId": "7d73f6b7-f847-4ada-d92d-93cfb8b9ca0c"
      },
      "execution_count": 44,
      "outputs": [
        {
          "output_type": "stream",
          "name": "stdout",
          "text": [
            "Multiply: [ 4 10 18]\n"
          ]
        }
      ]
    },
    {
      "cell_type": "code",
      "source": [
        "#division\n",
        "quotient_array=np.divide(a,b)\n",
        "print(\"Quotient:\",quotient_array)"
      ],
      "metadata": {
        "colab": {
          "base_uri": "https://localhost:8080/"
        },
        "id": "4NgHAbUn6VT6",
        "outputId": "f450b641-c4cb-49dd-84ad-fe0b0e23198c"
      },
      "execution_count": 45,
      "outputs": [
        {
          "output_type": "stream",
          "name": "stdout",
          "text": [
            "Quotient: [0.25 0.4  0.5 ]\n"
          ]
        }
      ]
    },
    {
      "cell_type": "markdown",
      "source": [
        "Matrix Multiplication"
      ],
      "metadata": {
        "id": "HwqCHjVD6jba"
      }
    },
    {
      "cell_type": "markdown",
      "source": [
        "Q.1 Create two matrices: matrix_a = [[1, 2], [3, 4]] and matrix_b = [[5, 6], [7, 8]]."
      ],
      "metadata": {
        "id": "wlPIURlnqvpH"
      }
    },
    {
      "cell_type": "code",
      "source": [
        "#create 2 matrix\n",
        "a=np.array([[1,2],[3,4]])\n",
        "b=np.array([[5,6],[7,8]])\n"
      ],
      "metadata": {
        "id": "a_Juenwi6iWU"
      },
      "execution_count": 46,
      "outputs": []
    },
    {
      "cell_type": "markdown",
      "source": [
        "Q.2 Perform matrix multiplication on these matrices."
      ],
      "metadata": {
        "id": "Ehm5ZlRhq0xG"
      }
    },
    {
      "cell_type": "code",
      "source": [
        "#matrix Multiplication\n",
        "matrix_product=np.dot(a,b)\n",
        "print(\"Matrix Product:\\n\",matrix_product)"
      ],
      "metadata": {
        "colab": {
          "base_uri": "https://localhost:8080/"
        },
        "id": "KcuJFcec69Wf",
        "outputId": "a92284b9-2f09-4752-d196-4d5920fc9448"
      },
      "execution_count": 47,
      "outputs": [
        {
          "output_type": "stream",
          "name": "stdout",
          "text": [
            "Matrix Product:\n",
            " [[19 22]\n",
            " [43 50]]\n"
          ]
        }
      ]
    },
    {
      "cell_type": "markdown",
      "source": [
        "Broadcasting"
      ],
      "metadata": {
        "id": "gzQlo9qC7PMX"
      }
    },
    {
      "cell_type": "markdown",
      "source": [
        "Q.1 Create an array: array = [1, 2, 3]."
      ],
      "metadata": {
        "id": "Duw1CTErq75X"
      }
    },
    {
      "cell_type": "code",
      "source": [
        "#create an array & a scalar\n",
        "array=np.array([1,2,3])\n",
        "scalar=2"
      ],
      "metadata": {
        "id": "lfAPCVcu7N_Z"
      },
      "execution_count": 48,
      "outputs": []
    },
    {
      "cell_type": "markdown",
      "source": [
        "Q.2 Multiply this array by a scalar value, e.g., 2, using broadcasting."
      ],
      "metadata": {
        "id": "flsf2RI2rARw"
      }
    },
    {
      "cell_type": "code",
      "source": [
        "#broadcasting\n",
        "broadcasted_array=array*scalar\n",
        "print(\"Broadcasted Array:\",broadcasted_array)"
      ],
      "metadata": {
        "colab": {
          "base_uri": "https://localhost:8080/"
        },
        "id": "BxKzhYsi7dFx",
        "outputId": "307fd10a-be97-4379-d639-cc8211c52956"
      },
      "execution_count": 49,
      "outputs": [
        {
          "output_type": "stream",
          "name": "stdout",
          "text": [
            "Broadcasted Array: [2 4 6]\n"
          ]
        }
      ]
    },
    {
      "cell_type": "markdown",
      "source": [
        "Statistical Operations"
      ],
      "metadata": {
        "id": "0yjkvQnB7vEC"
      }
    },
    {
      "cell_type": "markdown",
      "source": [
        "Q.1 Create an array: data = [1, 2, 3, 4, 5]."
      ],
      "metadata": {
        "id": "F0MmktBlrDw4"
      }
    },
    {
      "cell_type": "code",
      "source": [
        "#create an array\n",
        "data=np.array([1,2,3,4,5])"
      ],
      "metadata": {
        "id": "2HznYsDp7mwq"
      },
      "execution_count": 50,
      "outputs": []
    },
    {
      "cell_type": "markdown",
      "source": [
        "Q.2 Calculate the mean, standard deviation, and sum of this array."
      ],
      "metadata": {
        "id": "NZj6zSWLrHnY"
      }
    },
    {
      "cell_type": "code",
      "source": [
        "#mean\n",
        "mean=np.mean(data)\n",
        "print(\"Mean:\",mean)"
      ],
      "metadata": {
        "colab": {
          "base_uri": "https://localhost:8080/"
        },
        "id": "VwqBRxMJ7jb_",
        "outputId": "d9cd925d-d48e-4ccb-89a4-34eaf1abcb72"
      },
      "execution_count": 51,
      "outputs": [
        {
          "output_type": "stream",
          "name": "stdout",
          "text": [
            "Mean: 3.0\n"
          ]
        }
      ]
    },
    {
      "cell_type": "code",
      "source": [
        "#standard deviation\n",
        "std=np.std(data)\n",
        "print(\"Standard Deviation:\",std)"
      ],
      "metadata": {
        "colab": {
          "base_uri": "https://localhost:8080/"
        },
        "id": "vdWIjxOg8Akj",
        "outputId": "349a81d1-5738-4feb-e72a-eda1a8d25bf5"
      },
      "execution_count": 52,
      "outputs": [
        {
          "output_type": "stream",
          "name": "stdout",
          "text": [
            "Standard Deviation: 1.4142135623730951\n"
          ]
        }
      ]
    },
    {
      "cell_type": "code",
      "source": [
        "#sum\n",
        "sum=np.sum(data)\n",
        "print(\"Sum:\",sum)"
      ],
      "metadata": {
        "colab": {
          "base_uri": "https://localhost:8080/"
        },
        "id": "R1U1w0t18LQi",
        "outputId": "3c7148b6-dea5-4a92-d743-ba4f3fc87ff9"
      },
      "execution_count": 53,
      "outputs": [
        {
          "output_type": "stream",
          "name": "stdout",
          "text": [
            "Sum: 15\n"
          ]
        }
      ]
    },
    {
      "cell_type": "markdown",
      "source": [
        "Reshaping Arrays"
      ],
      "metadata": {
        "id": "-N1hKq6w8SuL"
      }
    },
    {
      "cell_type": "markdown",
      "source": [
        "Q.1 Create a 1D array: array = [1, 2, 3, 4, 5, 6]."
      ],
      "metadata": {
        "id": "lRfmHfAdrPRB"
      }
    },
    {
      "cell_type": "code",
      "source": [
        "#create a 1d array\n",
        "array=np.array([1,2,3,4,5,6])"
      ],
      "metadata": {
        "id": "UnK0hxOe8SG4"
      },
      "execution_count": 54,
      "outputs": []
    },
    {
      "cell_type": "markdown",
      "source": [
        "Q.2 Reshape this array to a 2x3 array."
      ],
      "metadata": {
        "id": "nqAbNcSVrTyj"
      }
    },
    {
      "cell_type": "code",
      "source": [
        "#reshaping to 2x3\n",
        "reshaped=array.reshape(2,3)\n",
        "print(\"Reshaped Array:\\n\",reshaped)"
      ],
      "metadata": {
        "colab": {
          "base_uri": "https://localhost:8080/"
        },
        "id": "2uA0kx4P8xq7",
        "outputId": "52bc30c2-0e69-4d58-e7a2-9ea9d636564a"
      },
      "execution_count": 55,
      "outputs": [
        {
          "output_type": "stream",
          "name": "stdout",
          "text": [
            "Reshaped Array:\n",
            " [[1 2 3]\n",
            " [4 5 6]]\n"
          ]
        }
      ]
    },
    {
      "cell_type": "markdown",
      "source": [
        "Q.3 Reshape the same array to a 3x2 array."
      ],
      "metadata": {
        "id": "Fn-m5E0OrYJV"
      }
    },
    {
      "cell_type": "code",
      "source": [
        "#reshaping to 3x2\n",
        "reshaped_array=array.reshape(3,2)\n",
        "print(\"Reshaped Array:\\n\",reshaped_array)"
      ],
      "metadata": {
        "colab": {
          "base_uri": "https://localhost:8080/"
        },
        "id": "Q4HJMm-L9ACs",
        "outputId": "0825232e-3542-47e1-b527-910294b944c7"
      },
      "execution_count": 56,
      "outputs": [
        {
          "output_type": "stream",
          "name": "stdout",
          "text": [
            "Reshaped Array:\n",
            " [[1 2]\n",
            " [3 4]\n",
            " [5 6]]\n"
          ]
        }
      ]
    },
    {
      "cell_type": "markdown",
      "source": [
        "Element-wise Operations"
      ],
      "metadata": {
        "id": "-RAnndZH9TXH"
      }
    },
    {
      "cell_type": "markdown",
      "source": [
        "Q.1 Create two arrays: array_a = [1, 2, 3] and array_b = [4, 5, 6]."
      ],
      "metadata": {
        "id": "e1Of7lVjrdZa"
      }
    },
    {
      "cell_type": "code",
      "source": [
        "#create Array\n",
        "array_a=np.array([1,2,3])\n",
        "array_b=np.array([4,5,6])"
      ],
      "metadata": {
        "id": "TqCMKxT89XJk"
      },
      "execution_count": 57,
      "outputs": []
    },
    {
      "cell_type": "markdown",
      "source": [
        "Q.2 Perform element-wise addition and multiplication on these arrays."
      ],
      "metadata": {
        "id": "1DVsKvQ6rjol"
      }
    },
    {
      "cell_type": "code",
      "source": [
        "#Element-wise addition\n",
        "add_result=array_a + array_b\n",
        "print(\"Element-wise Addition:\",add_result)"
      ],
      "metadata": {
        "colab": {
          "base_uri": "https://localhost:8080/"
        },
        "id": "buPTVcub90CL",
        "outputId": "41acbbdb-95be-4094-924b-5bf0fb321481"
      },
      "execution_count": 58,
      "outputs": [
        {
          "output_type": "stream",
          "name": "stdout",
          "text": [
            "Element-wise Addition: [5 7 9]\n"
          ]
        }
      ]
    },
    {
      "cell_type": "code",
      "source": [
        "#Element-wise Multiplication\n",
        "multiply_result=array_a*array_b\n",
        "print(\"Element-wise:\",multiply_result)"
      ],
      "metadata": {
        "colab": {
          "base_uri": "https://localhost:8080/"
        },
        "id": "Oi8Lt3Jo-Mq1",
        "outputId": "64a7578a-7938-48e4-e7a8-a57cb9902c7e"
      },
      "execution_count": 59,
      "outputs": [
        {
          "output_type": "stream",
          "name": "stdout",
          "text": [
            "Element-wise: [ 4 10 18]\n"
          ]
        }
      ]
    },
    {
      "cell_type": "markdown",
      "source": [
        "Slicing & indexing"
      ],
      "metadata": {
        "id": "-Wky5icR-j3j"
      }
    },
    {
      "cell_type": "markdown",
      "source": [
        "Q.1 Create a 2D array: array_2d = [[1, 2, 3], [4, 5, 6], [7, 8, 9]]."
      ],
      "metadata": {
        "id": "2zvGJVNnrl78"
      }
    },
    {
      "cell_type": "code",
      "source": [
        "#create 2D array\n",
        "array_2d=np.array([[1,2,3],[4,5,6],[7,8,9]])\n",
        "print(\"array_2d:\\n\", array_2d)"
      ],
      "metadata": {
        "id": "zBUXtCOn-fm8",
        "colab": {
          "base_uri": "https://localhost:8080/"
        },
        "outputId": "353e27b2-7dec-4c8e-86fe-b5dfcb5f406d"
      },
      "execution_count": 69,
      "outputs": [
        {
          "output_type": "stream",
          "name": "stdout",
          "text": [
            "array_2d:\n",
            " [[1 2 3]\n",
            " [4 5 6]\n",
            " [7 8 9]]\n"
          ]
        }
      ]
    },
    {
      "cell_type": "markdown",
      "source": [
        "Q.2 Access the element at row 1, column 1."
      ],
      "metadata": {
        "id": "wq1ZtILyrrqd"
      }
    },
    {
      "cell_type": "code",
      "source": [
        "#accessing an element\n",
        "element=array_2d[1,1]\n",
        "print(\"Element at [1,1]:\",element)"
      ],
      "metadata": {
        "colab": {
          "base_uri": "https://localhost:8080/"
        },
        "id": "tsNGP9cW-30v",
        "outputId": "da20e52c-89a0-4e56-ec62-d120e5384539"
      },
      "execution_count": 61,
      "outputs": [
        {
          "output_type": "stream",
          "name": "stdout",
          "text": [
            "Element at [1,1]: 5\n"
          ]
        }
      ]
    },
    {
      "cell_type": "markdown",
      "source": [
        "Q.3 Access row 1."
      ],
      "metadata": {
        "id": "9TpM5cgBr6gJ"
      }
    },
    {
      "cell_type": "code",
      "source": [
        "#accessing a row\n",
        "row=array_2d[1,:]\n",
        "print(\"Row:\",row)"
      ],
      "metadata": {
        "colab": {
          "base_uri": "https://localhost:8080/"
        },
        "id": "BLesoCkv_GCq",
        "outputId": "d40683a5-02db-4e01-b51a-ad7ed5e17b23"
      },
      "execution_count": 62,
      "outputs": [
        {
          "output_type": "stream",
          "name": "stdout",
          "text": [
            "Row: [4 5 6]\n"
          ]
        }
      ]
    },
    {
      "cell_type": "markdown",
      "source": [
        "Q.4 Access column 1."
      ],
      "metadata": {
        "id": "pJIut3hzr8zq"
      }
    },
    {
      "cell_type": "code",
      "source": [
        "#accessing a column\n",
        "column=array_2d[:,1]\n",
        "print(\"Column:\",column)"
      ],
      "metadata": {
        "colab": {
          "base_uri": "https://localhost:8080/"
        },
        "id": "p2vy-1WA_Xdg",
        "outputId": "0ddd5f71-1d4e-4972-f0f1-e48690ed2887"
      },
      "execution_count": 63,
      "outputs": [
        {
          "output_type": "stream",
          "name": "stdout",
          "text": [
            "Column: [2 5 8]\n"
          ]
        }
      ]
    },
    {
      "cell_type": "markdown",
      "source": [
        "Creating Random Arrays"
      ],
      "metadata": {
        "id": "1f39by0VD6k2"
      }
    },
    {
      "cell_type": "markdown",
      "source": [
        "Q.1 Create a 3x3 array with random floats."
      ],
      "metadata": {
        "id": "2BrclHLtsBlj"
      }
    },
    {
      "cell_type": "code",
      "source": [
        "# Create a random array\n",
        "random_array = np.random.rand(3, 3)\n",
        "print(\"Random Array:\\n\", random_array)"
      ],
      "metadata": {
        "colab": {
          "base_uri": "https://localhost:8080/"
        },
        "id": "AxgUwFlbD9Sl",
        "outputId": "71358c52-1d8f-420c-bace-9f449eca1905"
      },
      "execution_count": 64,
      "outputs": [
        {
          "output_type": "stream",
          "name": "stdout",
          "text": [
            "Random Array:\n",
            " [[0.10630836 0.54534622 0.34157964]\n",
            " [0.49837601 0.60742334 0.3288937 ]\n",
            " [0.21665839 0.76879382 0.91433004]]\n"
          ]
        }
      ]
    },
    {
      "cell_type": "markdown",
      "source": [
        "Q.2 Create a 3x3 array with random integers between 0 and 10."
      ],
      "metadata": {
        "id": "G_3sQ3R2sGvq"
      }
    },
    {
      "cell_type": "code",
      "source": [
        "# Create a random integer array\n",
        "random_int_array = np.random.randint(0, 10, (3, 3))\n",
        "print(\"Random Integer Array:\\n\", random_int_array)"
      ],
      "metadata": {
        "colab": {
          "base_uri": "https://localhost:8080/"
        },
        "id": "K5txBzo9EIcf",
        "outputId": "e0939851-9aac-42c2-bf19-3d6da6119c82"
      },
      "execution_count": 65,
      "outputs": [
        {
          "output_type": "stream",
          "name": "stdout",
          "text": [
            "Random Integer Array:\n",
            " [[9 2 9]\n",
            " [3 6 1]\n",
            " [1 7 9]]\n"
          ]
        }
      ]
    },
    {
      "cell_type": "markdown",
      "source": [
        "Stacking and Concatenating Arrays"
      ],
      "metadata": {
        "id": "8zFspQu3EOSz"
      }
    },
    {
      "cell_type": "markdown",
      "source": [
        "Q.1 Create two arrays: array_a = [1, 2, 3] and array_b = [4, 5, 6]."
      ],
      "metadata": {
        "id": "ec7bPUPQsI45"
      }
    },
    {
      "cell_type": "code",
      "source": [
        "#create two array\n",
        "array_a=np.array([1,2,3])\n",
        "array_b=np.array((4,5,6))"
      ],
      "metadata": {
        "id": "xWRVRjj1F6mJ"
      },
      "execution_count": 66,
      "outputs": []
    },
    {
      "cell_type": "markdown",
      "source": [
        "Q.2 Perform vertical stacking on these arrays."
      ],
      "metadata": {
        "id": "l9fqJPkisOw2"
      }
    },
    {
      "cell_type": "code",
      "source": [
        "# Vertical stack\n",
        "v_stack = np.vstack((array_a, array_b))\n",
        "print(\"Vertical Stack:\\n\", v_stack)"
      ],
      "metadata": {
        "colab": {
          "base_uri": "https://localhost:8080/"
        },
        "id": "SbBRrby0Gz0D",
        "outputId": "8d15ce96-6532-4b0c-bc5f-71ef2641b71f"
      },
      "execution_count": 67,
      "outputs": [
        {
          "output_type": "stream",
          "name": "stdout",
          "text": [
            "Vertical Stack:\n",
            " [[1 2 3]\n",
            " [4 5 6]]\n"
          ]
        }
      ]
    },
    {
      "cell_type": "markdown",
      "source": [
        "Q.3 Perform horizontal stacking on these arrays."
      ],
      "metadata": {
        "id": "I0QmHDI1sRH_"
      }
    },
    {
      "cell_type": "code",
      "source": [
        "# Horizontal stack\n",
        "h_stack = np.hstack((array_a,array_b))\n",
        "print(\"Horizontal Stack:\", h_stack)"
      ],
      "metadata": {
        "colab": {
          "base_uri": "https://localhost:8080/"
        },
        "id": "ZP226W-bG4lL",
        "outputId": "75e93bba-198a-4bff-a641-d65721914957"
      },
      "execution_count": 68,
      "outputs": [
        {
          "output_type": "stream",
          "name": "stdout",
          "text": [
            "Horizontal Stack: [1 2 3 4 5 6]\n"
          ]
        }
      ]
    }
  ]
}