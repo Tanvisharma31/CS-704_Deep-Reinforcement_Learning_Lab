{
  "cells": [
    {
      "cell_type": "markdown",
      "metadata": {},
      "source": [
        "# Multi Layer Perceptron Model 10 : **Mobile Dataset**:"
      ]
    },
    {
      "cell_type": "code",
      "execution_count": 19,
      "metadata": {
        "colab": {
          "base_uri": "https://localhost:8080/"
        },
        "id": "7fPNXhHjC5w7",
        "outputId": "940ddf87-13c9-48c6-ba39-e68b94507bb4"
      },
      "outputs": [
        {
          "name": "stdout",
          "output_type": "stream",
          "text": [
            "Epoch 1/20\n"
          ]
        },
        {
          "name": "stderr",
          "output_type": "stream",
          "text": [
            "/usr/local/lib/python3.10/dist-packages/keras/src/layers/core/dense.py:87: UserWarning: Do not pass an `input_shape`/`input_dim` argument to a layer. When using Sequential models, prefer using an `Input(shape)` object as the first layer in the model instead.\n",
            "  super().__init__(activity_regularizer=activity_regularizer, **kwargs)\n"
          ]
        },
        {
          "name": "stdout",
          "output_type": "stream",
          "text": [
            "\u001b[1m40/40\u001b[0m \u001b[32m━━━━━━━━━━━━━━━━━━━━\u001b[0m\u001b[37m\u001b[0m \u001b[1m3s\u001b[0m 20ms/step - accuracy: 4.3388e-04 - loss: 7.3647 - val_accuracy: 0.0000e+00 - val_loss: 7.4124\n",
            "Epoch 2/20\n",
            "\u001b[1m40/40\u001b[0m \u001b[32m━━━━━━━━━━━━━━━━━━━━\u001b[0m\u001b[37m\u001b[0m \u001b[1m1s\u001b[0m 7ms/step - accuracy: 0.0360 - loss: 7.1438 - val_accuracy: 0.0000e+00 - val_loss: 8.0362\n",
            "Epoch 3/20\n",
            "\u001b[1m40/40\u001b[0m \u001b[32m━━━━━━━━━━━━━━━━━━━━\u001b[0m\u001b[37m\u001b[0m \u001b[1m1s\u001b[0m 8ms/step - accuracy: 0.0207 - loss: 6.3732 - val_accuracy: 0.0000e+00 - val_loss: 8.8863\n",
            "Epoch 4/20\n",
            "\u001b[1m40/40\u001b[0m \u001b[32m━━━━━━━━━━━━━━━━━━━━\u001b[0m\u001b[37m\u001b[0m \u001b[1m1s\u001b[0m 6ms/step - accuracy: 0.1196 - loss: 5.4540 - val_accuracy: 0.0000e+00 - val_loss: 10.8272\n",
            "Epoch 5/20\n",
            "\u001b[1m40/40\u001b[0m \u001b[32m━━━━━━━━━━━━━━━━━━━━\u001b[0m\u001b[37m\u001b[0m \u001b[1m0s\u001b[0m 7ms/step - accuracy: 0.3276 - loss: 4.1303 - val_accuracy: 0.0000e+00 - val_loss: 12.6853\n",
            "Epoch 6/20\n",
            "\u001b[1m40/40\u001b[0m \u001b[32m━━━━━━━━━━━━━━━━━━━━\u001b[0m\u001b[37m\u001b[0m \u001b[1m0s\u001b[0m 7ms/step - accuracy: 0.7386 - loss: 2.5503 - val_accuracy: 0.0000e+00 - val_loss: 15.0705\n",
            "Epoch 7/20\n",
            "\u001b[1m40/40\u001b[0m \u001b[32m━━━━━━━━━━━━━━━━━━━━\u001b[0m\u001b[37m\u001b[0m \u001b[1m0s\u001b[0m 6ms/step - accuracy: 0.8386 - loss: 1.3577 - val_accuracy: 0.0000e+00 - val_loss: 17.0504\n",
            "Epoch 8/20\n",
            "\u001b[1m40/40\u001b[0m \u001b[32m━━━━━━━━━━━━━━━━━━━━\u001b[0m\u001b[37m\u001b[0m \u001b[1m0s\u001b[0m 6ms/step - accuracy: 0.8643 - loss: 0.8974 - val_accuracy: 0.0000e+00 - val_loss: 18.3717\n",
            "Epoch 9/20\n",
            "\u001b[1m40/40\u001b[0m \u001b[32m━━━━━━━━━━━━━━━━━━━━\u001b[0m\u001b[37m\u001b[0m \u001b[1m0s\u001b[0m 8ms/step - accuracy: 0.8931 - loss: 0.6307 - val_accuracy: 0.0000e+00 - val_loss: 19.4261\n",
            "Epoch 10/20\n",
            "\u001b[1m40/40\u001b[0m \u001b[32m━━━━━━━━━━━━━━━━━━━━\u001b[0m\u001b[37m\u001b[0m \u001b[1m0s\u001b[0m 7ms/step - accuracy: 0.9064 - loss: 0.4899 - val_accuracy: 0.0000e+00 - val_loss: 20.3240\n",
            "Epoch 11/20\n",
            "\u001b[1m40/40\u001b[0m \u001b[32m━━━━━━━━━━━━━━━━━━━━\u001b[0m\u001b[37m\u001b[0m \u001b[1m1s\u001b[0m 7ms/step - accuracy: 0.9455 - loss: 0.3704 - val_accuracy: 0.0000e+00 - val_loss: 21.0674\n",
            "Epoch 12/20\n",
            "\u001b[1m40/40\u001b[0m \u001b[32m━━━━━━━━━━━━━━━━━━━━\u001b[0m\u001b[37m\u001b[0m \u001b[1m0s\u001b[0m 6ms/step - accuracy: 0.9594 - loss: 0.2783 - val_accuracy: 0.0000e+00 - val_loss: 21.6819\n",
            "Epoch 13/20\n",
            "\u001b[1m40/40\u001b[0m \u001b[32m━━━━━━━━━━━━━━━━━━━━\u001b[0m\u001b[37m\u001b[0m \u001b[1m0s\u001b[0m 6ms/step - accuracy: 0.9782 - loss: 0.2397 - val_accuracy: 0.0000e+00 - val_loss: 22.3320\n",
            "Epoch 14/20\n",
            "\u001b[1m40/40\u001b[0m \u001b[32m━━━━━━━━━━━━━━━━━━━━\u001b[0m\u001b[37m\u001b[0m \u001b[1m0s\u001b[0m 7ms/step - accuracy: 0.9779 - loss: 0.1969 - val_accuracy: 0.0000e+00 - val_loss: 22.9229\n",
            "Epoch 15/20\n",
            "\u001b[1m40/40\u001b[0m \u001b[32m━━━━━━━━━━━━━━━━━━━━\u001b[0m\u001b[37m\u001b[0m \u001b[1m0s\u001b[0m 6ms/step - accuracy: 0.9880 - loss: 0.1688 - val_accuracy: 0.0000e+00 - val_loss: 23.4701\n",
            "Epoch 16/20\n",
            "\u001b[1m40/40\u001b[0m \u001b[32m━━━━━━━━━━━━━━━━━━━━\u001b[0m\u001b[37m\u001b[0m \u001b[1m0s\u001b[0m 6ms/step - accuracy: 0.9926 - loss: 0.1330 - val_accuracy: 0.0000e+00 - val_loss: 23.9419\n",
            "Epoch 17/20\n",
            "\u001b[1m40/40\u001b[0m \u001b[32m━━━━━━━━━━━━━━━━━━━━\u001b[0m\u001b[37m\u001b[0m \u001b[1m0s\u001b[0m 6ms/step - accuracy: 0.9976 - loss: 0.1214 - val_accuracy: 0.0000e+00 - val_loss: 24.4080\n",
            "Epoch 18/20\n",
            "\u001b[1m40/40\u001b[0m \u001b[32m━━━━━━━━━━━━━━━━━━━━\u001b[0m\u001b[37m\u001b[0m \u001b[1m0s\u001b[0m 7ms/step - accuracy: 0.9988 - loss: 0.0860 - val_accuracy: 0.0000e+00 - val_loss: 24.9099\n",
            "Epoch 19/20\n",
            "\u001b[1m40/40\u001b[0m \u001b[32m━━━━━━━━━━━━━━━━━━━━\u001b[0m\u001b[37m\u001b[0m \u001b[1m0s\u001b[0m 7ms/step - accuracy: 0.9975 - loss: 0.0876 - val_accuracy: 0.0000e+00 - val_loss: 25.2704\n",
            "Epoch 20/20\n",
            "\u001b[1m40/40\u001b[0m \u001b[32m━━━━━━━━━━━━━━━━━━━━\u001b[0m\u001b[37m\u001b[0m \u001b[1m0s\u001b[0m 6ms/step - accuracy: 0.9989 - loss: 0.0721 - val_accuracy: 0.0000e+00 - val_loss: 25.6696\n",
            "\u001b[1m13/13\u001b[0m \u001b[32m━━━━━━━━━━━━━━━━━━━━\u001b[0m\u001b[37m\u001b[0m \u001b[1m0s\u001b[0m 3ms/step - accuracy: 0.0000e+00 - loss: 26.5236  \n",
            "Test Loss: 26.3371\n",
            "Test Accuracy: 0.0000\n",
            "\u001b[1m13/13\u001b[0m \u001b[32m━━━━━━━━━━━━━━━━━━━━\u001b[0m\u001b[37m\u001b[0m \u001b[1m0s\u001b[0m 6ms/step\n",
            "[[4.1536412e-15 6.7143913e-09 2.2121506e-04 ... 3.9682699e-13\n",
            "  2.1190001e-09 1.5936774e-19]\n",
            " [1.8740002e-13 7.6466837e-05 1.5628184e-15 ... 2.1901677e-13\n",
            "  3.1439944e-11 1.6501606e-16]\n",
            " [2.2798738e-12 1.4320033e-04 3.9646166e-09 ... 6.7233771e-12\n",
            "  2.0300914e-12 6.0039643e-12]\n",
            " [1.4110947e-13 7.3123501e-13 1.8550979e-12 ... 1.4659813e-12\n",
            "  9.0168951e-06 8.9549340e-14]\n",
            " [5.0820323e-13 7.9682636e-08 7.4297535e-10 ... 1.5451984e-12\n",
            "  8.0858646e-11 1.4063641e-08]]\n"
          ]
        }
      ],
      "source": [
        "# Import necessary libraries\n",
        "import numpy as np\n",
        "import pandas as pd\n",
        "import tensorflow as tf\n",
        "from tensorflow.keras.models import Sequential\n",
        "from tensorflow.keras.layers import Dense\n",
        "from tensorflow.keras.optimizers import Adam\n",
        "from sklearn.model_selection import train_test_split\n",
        "from sklearn.preprocessing import StandardScaler\n",
        "from sklearn.preprocessing import LabelEncoder\n",
        "from tensorflow.keras.utils import to_categorical\n",
        "\n",
        "data= pd.read_excel('./Mobile-data.xlsx')\n",
        "# Display the first few rows of the dataset\n",
        "data.head()\n",
        "\n",
        "# Assume the dataset has features and a target column\n",
        "# Replace 'target' with the name of your target column\n",
        "target_column = 'ram'\n",
        "X = data.drop(columns=[target_column])\n",
        "y = data[target_column]\n",
        "\n",
        "# Encode categorical target if necessary\n",
        "label_encoder = LabelEncoder()\n",
        "y = label_encoder.fit_transform(y)\n",
        "num_classes = len(np.unique(y))\n",
        "\n",
        "# Convert target to one-hot encoding\n",
        "y = to_categorical(y, num_classes=num_classes)\n",
        "\n",
        "# Scale features\n",
        "scaler = StandardScaler()\n",
        "X = scaler.fit_transform(X)\n",
        "\n",
        "# Split data into training and test sets\n",
        "X_train, X_test, y_train, y_test = train_test_split(X, y, test_size=0.2, random_state=42)\n",
        "\n",
        "# Create the MLP model\n",
        "def create_mlp_model(input_dim, num_classes):\n",
        "    model = Sequential()\n",
        "    model.add(Dense(128, input_dim=input_dim, activation='relu'))\n",
        "    model.add(Dense(64, activation='relu'))\n",
        "    model.add(Dense(num_classes, activation='softmax'))\n",
        "\n",
        "    model.compile(optimizer=Adam(learning_rate=0.001),\n",
        "                  loss='categorical_crossentropy',\n",
        "                  metrics=['accuracy'])\n",
        "    return model\n",
        "\n",
        "# Create and train the MLP model\n",
        "input_dim = X_train.shape[1]\n",
        "model = create_mlp_model(input_dim, num_classes)\n",
        "history = model.fit(X_train, y_train, epochs=20, batch_size=32, validation_split=0.2)\n",
        "\n",
        "# Evaluate the model\n",
        "loss, accuracy = model.evaluate(X_test, y_test)\n",
        "print(f'Test Loss: {loss:.4f}')\n",
        "print(f'Test Accuracy: {accuracy:.4f}')\n",
        "\n",
        "\n",
        "predictions = model.predict(X_test)\n",
        "print(predictions[:5])\n"
      ]
    },
    {
      "cell_type": "code",
      "execution_count": 15,
      "metadata": {
        "colab": {
          "base_uri": "https://localhost:8080/"
        },
        "id": "HlePR1PSC8D0",
        "outputId": "0ce9722d-39f9-4092-95bc-4852f4b11a6b"
      },
      "outputs": [
        {
          "name": "stderr",
          "output_type": "stream",
          "text": [
            "WARNING:absl:Compiled the loaded model, but the compiled metrics have yet to be built. `model.compile_metrics` will be empty until you train or evaluate the model.\n"
          ]
        },
        {
          "name": "stdout",
          "output_type": "stream",
          "text": [
            "\u001b[1m63/63\u001b[0m \u001b[32m━━━━━━━━━━━━━━━━━━━━\u001b[0m\u001b[37m\u001b[0m \u001b[1m1s\u001b[0m 8ms/step\n",
            "      battery_power  blue  clock_speed  dual_sim  fc  four_g  int_memory  \\\n",
            "0               842     0          2.2         0   1       0           7   \n",
            "1              1021     1          0.5         1   0       1          53   \n",
            "2               563     1          0.5         1   2       1          41   \n",
            "3               615     1          2.5         0   0       0          10   \n",
            "4              1821     1          1.2         0  13       1          44   \n",
            "...             ...   ...          ...       ...  ..     ...         ...   \n",
            "1995            794     1          0.5         1   0       1           2   \n",
            "1996           1965     1          2.6         1   0       0          39   \n",
            "1997           1911     0          0.9         1   1       1          36   \n",
            "1998           1512     0          0.9         0   4       1          46   \n",
            "1999            510     1          2.0         1   5       1          45   \n",
            "\n",
            "      m_dep  mobile_wt  n_cores  ...  px_width   ram  sc_h  sc_w  talk_time  \\\n",
            "0       0.6        188        2  ...       756  2549     9     7         19   \n",
            "1       0.7        136        3  ...      1988  2631    17     3          7   \n",
            "2       0.9        145        5  ...      1716  2603    11     2          9   \n",
            "3       0.8        131        6  ...      1786  2769    16     8         11   \n",
            "4       0.6        141        2  ...      1212  1411     8     2         15   \n",
            "...     ...        ...      ...  ...       ...   ...   ...   ...        ...   \n",
            "1995    0.8        106        6  ...      1890   668    13     4         19   \n",
            "1996    0.2        187        4  ...      1965  2032    11    10         16   \n",
            "1997    0.7        108        8  ...      1632  3057     9     1          5   \n",
            "1998    0.1        145        5  ...       670   869    18    10         19   \n",
            "1999    0.9        168        6  ...       754  3919    19     4          2   \n",
            "\n",
            "      three_g  touch_screen  wifi  price_range  Predicted  \n",
            "0           0             0     1            1        963  \n",
            "1           1             1     0            2        984  \n",
            "2           1             1     0            2        984  \n",
            "3           1             0     0            2       1055  \n",
            "4           1             1     0            1        499  \n",
            "...       ...           ...   ...          ...        ...  \n",
            "1995        1             1     0            0        180  \n",
            "1996        1             1     1            2        703  \n",
            "1997        1             1     0            3       1158  \n",
            "1998        1             1     1            0        266  \n",
            "1999        1             1     1            3       1526  \n",
            "\n",
            "[2000 rows x 22 columns]\n"
          ]
        }
      ],
      "source": []
    },
    {
      "cell_type": "code",
      "execution_count": 13,
      "metadata": {
        "id": "yt2bxRL1DHkJ"
      },
      "outputs": [],
      "source": []
    },
    {
      "cell_type": "code",
      "execution_count": null,
      "metadata": {
        "id": "_p8Sy02qDYPL"
      },
      "outputs": [],
      "source": []
    }
  ],
  "metadata": {
    "colab": {
      "provenance": []
    },
    "kernelspec": {
      "display_name": "Python 3",
      "name": "python3"
    },
    "language_info": {
      "name": "python"
    }
  },
  "nbformat": 4,
  "nbformat_minor": 0
}
