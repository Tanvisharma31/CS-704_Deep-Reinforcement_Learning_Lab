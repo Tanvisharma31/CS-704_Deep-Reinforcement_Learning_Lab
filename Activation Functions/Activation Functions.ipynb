{
 "cells": [
  {
   "cell_type": "code",
   "execution_count": 1,
   "metadata": {},
   "outputs": [
    {
     "name": "stdout",
     "output_type": "stream",
     "text": [
      "Training with Sigmoid activation function\n",
      "Training with Tanh activation function\n",
      "Training with ReLU activation function\n"
     ]
    },
    {
     "data": {
      "image/png": "[encoded data removed]",
      "text/plain": [
       "<Figure size 1200x600 with 3 Axes>"
      ]
     },
     "metadata": {},
     "output_type": "display_data"
    }
   ],
   "source": [
    "import numpy as np\n",
    "import matplotlib.pyplot as plt\n",
    "\n",
    "# Define activation functions and their derivatives\n",
    "def sigmoid(x):\n",
    "    return 1 / (1 + np.exp(-x))\n",
    "\n",
    "def sigmoid_derivative(x):\n",
    "    return sigmoid(x) * (1 - sigmoid(x))\n",
    "\n",
    "def tanh(x):\n",
    "    return np.tanh(x)\n",
    "\n",
    "def tanh_derivative(x):\n",
    "    return 1 - np.tanh(x)**2\n",
    "\n",
    "def relu(x):\n",
    "    return np.maximum(0, x)\n",
    "\n",
    "def relu_derivative(x):\n",
    "    return np.where(x > 0, 1, 0)\n",
    "\n",
    "# Simple feedforward neural network for one hidden layer\n",
    "class SimpleNeuralNetwork:\n",
    "    def __init__(self, input_size, hidden_size, output_size, activation_function, activation_derivative):\n",
    "        # Initialize weights\n",
    "        self.weights_input_hidden = np.random.randn(input_size, hidden_size)\n",
    "        self.weights_hidden_output = np.random.randn(hidden_size, output_size)\n",
    "        self.activation_function = activation_function\n",
    "        self.activation_derivative = activation_derivative\n",
    "\n",
    "    def feedforward(self, inputs):\n",
    "        # Calculate the input to the hidden layer\n",
    "        self.hidden_input = np.dot(inputs, self.weights_input_hidden)\n",
    "        self.hidden_output = self.activation_function(self.hidden_input)\n",
    "        \n",
    "        # Calculate the output layer\n",
    "        self.output_input = np.dot(self.hidden_output, self.weights_hidden_output)\n",
    "        self.output = self.activation_function(self.output_input)\n",
    "        return self.output\n",
    "\n",
    "    def train(self, inputs, targets, learning_rate=0.1, epochs=10000):\n",
    "        for epoch in range(epochs):\n",
    "            # Feedforward\n",
    "            output = self.feedforward(inputs)\n",
    "            \n",
    "            # Calculate the error\n",
    "            error = targets - output\n",
    "            \n",
    "            # Backpropagation (Gradient Descent)\n",
    "            output_error_term = error * self.activation_derivative(self.output_input)\n",
    "            hidden_error_term = np.dot(output_error_term, self.weights_hidden_output.T) * self.activation_derivative(self.hidden_input)\n",
    "            \n",
    "            # Update weights\n",
    "            self.weights_hidden_output += np.dot(self.hidden_output.T, output_error_term) * learning_rate\n",
    "            self.weights_input_hidden += np.dot(inputs.T, hidden_error_term) * learning_rate\n",
    "\n",
    "# Generate a simple dataset (XOR problem)\n",
    "inputs = np.array([[0, 0], [0, 1], [1, 0], [1, 1]])\n",
    "targets = np.array([[0], [1], [1], [0]])  # XOR output\n",
    "\n",
    "# Compare different activation functions\n",
    "activations = {\n",
    "    \"Sigmoid\": (sigmoid, sigmoid_derivative),\n",
    "    \"Tanh\": (tanh, tanh_derivative),\n",
    "    \"ReLU\": (relu, relu_derivative)\n",
    "}\n",
    "\n",
    "# Training the neural networks with different activations\n",
    "results = {}\n",
    "\n",
    "for name, (activation, derivative) in activations.items():\n",
    "    print(f\"Training with {name} activation function\")\n",
    "    \n",
    "    # Initialize neural network\n",
    "    nn = SimpleNeuralNetwork(input_size=2, hidden_size=4, output_size=1,\n",
    "                             activation_function=activation, activation_derivative=derivative)\n",
    "    \n",
    "    # Train the network\n",
    "    nn.train(inputs, targets, learning_rate=0.1, epochs=10000)\n",
    "    \n",
    "    # Test the network\n",
    "    predictions = nn.feedforward(inputs)\n",
    "    results[name] = predictions\n",
    "\n",
    "# Plot the results\n",
    "plt.figure(figsize=(12, 6))\n",
    "for i, (name, output) in enumerate(results.items()):\n",
    "    plt.subplot(1, 3, i + 1)\n",
    "    plt.bar(range(4), output.flatten(), color='blue')\n",
    "    plt.ylim(0, 1)\n",
    "    plt.title(f'{name} Output')\n",
    "    plt.xticks(range(4), ['[0,0]', '[0,1]', '[1,0]', '[1,1]'])\n",
    "plt.tight_layout()\n",
    "plt.show()\n"
   ]
  },
  {
   "cell_type": "code",
   "execution_count": null,
   "metadata": {},
   "outputs": [],
   "source": []
  }
 ],
 "metadata": {
  "kernelspec": {
   "display_name": "Python 3",
   "language": "python",
   "name": "python3"
  },
  "language_info": {
   "codemirror_mode": {
    "name": "ipython",
    "version": 3
   },
   "file_extension": ".py",
   "mimetype": "text/x-python",
   "name": "python",
   "nbconvert_exporter": "python",
   "pygments_lexer": "ipython3",
   "version": "3.12.2"
  }
 },
 "nbformat": 4,
 "nbformat_minor": 2
}
