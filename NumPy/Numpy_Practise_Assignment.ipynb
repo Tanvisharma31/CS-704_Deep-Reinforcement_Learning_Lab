{
  "cells": [
    {
      "cell_type": "markdown",
      "metadata": {
        "id": "4GySR43XwZXq"
      },
      "source": [
        "# Numpy Practise Assignment"
      ]
    },
    {
      "cell_type": "markdown",
      "metadata": {},
      "source": [
        "Prerequisites:"
      ]
    },
    {
      "cell_type": "code",
      "execution_count": 2,
      "metadata": {
        "colab": {
          "base_uri": "https://localhost:8080/"
        },
        "id": "nkjdtAOe0tpX",
        "outputId": "9950654f-9976-4139-a8ee-5da6d5b0cbd1"
      },
      "outputs": [],
      "source": [
        "#!pip install numpy\n",
        "import numpy as np"
      ]
    },
    {
      "cell_type": "markdown",
      "metadata": {
        "id": "-x-tg1C6weoU"
      },
      "source": [
        "**Basic Array Creation**"
      ]
    },
    {
      "cell_type": "markdown",
      "metadata": {
        "id": "lh49ZfHMwjM9"
      },
      "source": [
        "Q.1 Create an array with 10 equally spaced numbers between 0 and 1."
      ]
    },
    {
      "cell_type": "code",
      "execution_count": 71,
      "metadata": {
        "colab": {
          "base_uri": "https://localhost:8080/"
        },
        "id": "AJvee3RdwE-J",
        "outputId": "7d7d74ea-e5a5-4a4b-9436-8d34092d770b"
      },
      "outputs": [
        {
          "name": "stdout",
          "output_type": "stream",
          "text": [
            "Array:\n",
            " [0.         0.11111111 0.22222222 0.33333333 0.44444444 0.55555556\n",
            " 0.66666667 0.77777778 0.88888889 1.        ]\n"
          ]
        }
      ],
      "source": [
        "# Create an array with 10 equally spaced numbers between 0 and 1\n",
        "array = np.linspace(0, 1, 10)\n",
        "print(\"Array:\\n\",array)"
      ]
    },
    {
      "cell_type": "markdown",
      "metadata": {
        "id": "t0pXMS0RwmNq"
      },
      "source": [
        "Q.2 Create a 1D array of 20 random integers between 1 and 100."
      ]
    },
    {
      "cell_type": "code",
      "execution_count": 72,
      "metadata": {
        "colab": {
          "base_uri": "https://localhost:8080/"
        },
        "id": "8aqGePDDwpyo",
        "outputId": "771817ae-a21d-4edd-af0f-4962d5915e92"
      },
      "outputs": [
        {
          "name": "stdout",
          "output_type": "stream",
          "text": [
            "Random Array:\n",
            " [52 81 19  5 31 98 56 59 81 84 93 84 42 81 37 76 91 56 24 52]\n"
          ]
        }
      ],
      "source": [
        "# Create a 1D array of 20 random integers between 1 and 100\n",
        "random_array = np.random.randint(1, 101, size=20)\n",
        "print(\"Random Array:\\n\",random_array)"
      ]
    },
    {
      "cell_type": "markdown",
      "metadata": {
        "id": "9X9LiwLNwqI5"
      },
      "source": [
        "Q.3 Create a 2D array with the shape (4, 4) filled with the value 7."
      ]
    },
    {
      "cell_type": "code",
      "execution_count": 73,
      "metadata": {
        "colab": {
          "base_uri": "https://localhost:8080/"
        },
        "id": "IDzoi6lJwtND",
        "outputId": "0b9e19fc-2d23-4533-d2c3-a00b31c5edf1"
      },
      "outputs": [
        {
          "name": "stdout",
          "output_type": "stream",
          "text": [
            "2D Array:\n",
            " [[7 7 7 7]\n",
            " [7 7 7 7]\n",
            " [7 7 7 7]\n",
            " [7 7 7 7]]\n"
          ]
        }
      ],
      "source": [
        "array_2d = np.full((4, 4), 7)\n",
        "print(\"2D Array:\\n\",array_2d)"
      ]
    },
    {
      "cell_type": "markdown",
      "metadata": {
        "id": "SUUuCm-LwtlF"
      },
      "source": [
        "Q.4 Create a 1D array of 10 elements with the same value, 3.14."
      ]
    },
    {
      "cell_type": "code",
      "execution_count": 74,
      "metadata": {
        "colab": {
          "base_uri": "https://localhost:8080/"
        },
        "id": "hJ0xfsUvwxFs",
        "outputId": "c7b8270a-a6ad-42d2-a3b5-dff099054d48"
      },
      "outputs": [
        {
          "name": "stdout",
          "output_type": "stream",
          "text": [
            "1D Array:\n",
            " [3.14 3.14 3.14 3.14 3.14 3.14 3.14 3.14 3.14 3.14]\n"
          ]
        }
      ],
      "source": [
        "# Create a 1D array of 10 elements with the same value, 3.14\n",
        "array_1d = np.full(10, 3.14)\n",
        "print(\"1D Array:\\n\",array_1d)"
      ]
    },
    {
      "cell_type": "markdown",
      "metadata": {
        "id": "frno0Ts5wwoN"
      },
      "source": [
        "Q.5 Create a 2D array with the shape (3, 3) with values ranging from 1 to 9."
      ]
    },
    {
      "cell_type": "code",
      "execution_count": 75,
      "metadata": {
        "colab": {
          "base_uri": "https://localhost:8080/"
        },
        "id": "fku4C3DMw0X6",
        "outputId": "8e686403-8d38-4317-ec71-6a829da8644e"
      },
      "outputs": [
        {
          "name": "stdout",
          "output_type": "stream",
          "text": [
            "2D Array:\n",
            " [[1 2 3]\n",
            " [4 5 6]\n",
            " [7 8 9]]\n"
          ]
        }
      ],
      "source": [
        "# Create a 2D array with the shape (3, 3) with values ranging from 1 to 9\n",
        "array_2d_range = np.arange(1, 10).reshape((3, 3))\n",
        "print(\"2D Array:\\n\",array_2d_range)"
      ]
    },
    {
      "cell_type": "markdown",
      "metadata": {
        "id": "5JS9sUJYw0v5"
      },
      "source": [
        "**Array Operations**"
      ]
    },
    {
      "cell_type": "markdown",
      "metadata": {
        "id": "ZDzGVEa8w37C"
      },
      "source": [
        "Q.1 Create two arrays: a = [1, 3, 5, 7, 9] and b = [2, 4, 6, 8, 10]. Perform element-wise\n",
        "subtraction."
      ]
    },
    {
      "cell_type": "code",
      "execution_count": 76,
      "metadata": {
        "colab": {
          "base_uri": "https://localhost:8080/"
        },
        "id": "Sme3gIn-w3Dk",
        "outputId": "df38457e-2c64-4331-f1fb-3189f51f37eb"
      },
      "outputs": [
        {
          "name": "stdout",
          "output_type": "stream",
          "text": [
            "Subtraction:\n",
            " [-1 -1 -1 -1 -1]\n"
          ]
        }
      ],
      "source": [
        "# Create the arrays\n",
        "a = np.array([1, 3, 5, 7, 9])\n",
        "b = np.array([2, 4, 6, 8, 10])\n",
        "\n",
        "# Perform element-wise subtraction\n",
        "result_subtraction = a - b\n",
        "print(\"Subtraction:\\n\",result_subtraction)"
      ]
    },
    {
      "cell_type": "markdown",
      "metadata": {
        "id": "trWYK_A8w3g0"
      },
      "source": [
        "Q.2 Multiply array a by 3: a = [2, 4, 6, 8]."
      ]
    },
    {
      "cell_type": "code",
      "execution_count": 77,
      "metadata": {
        "colab": {
          "base_uri": "https://localhost:8080/"
        },
        "id": "y2aYoU6RxAwk",
        "outputId": "82005ce3-499a-4e01-8bd5-c07ab860fe29"
      },
      "outputs": [
        {
          "name": "stdout",
          "output_type": "stream",
          "text": [
            "Multiplication:\n",
            " [ 6 12 18 24]\n"
          ]
        }
      ],
      "source": [
        "# Create the array\n",
        "a = np.array([2, 4, 6, 8])\n",
        "\n",
        "# Multiply array a by 3\n",
        "result_multiplication = a * 3\n",
        "print(\"Multiplication:\\n\",result_multiplication)"
      ]
    },
    {
      "cell_type": "markdown",
      "metadata": {
        "id": "4n3lX0s9xBCw"
      },
      "source": [
        "Q.3 Divide array a by 2: a = [10, 20, 30, 40]."
      ]
    },
    {
      "cell_type": "code",
      "execution_count": 78,
      "metadata": {
        "colab": {
          "base_uri": "https://localhost:8080/"
        },
        "id": "hjNjyGRtxEja",
        "outputId": "12fb4182-4322-4196-892b-3ead99a5e457"
      },
      "outputs": [
        {
          "name": "stdout",
          "output_type": "stream",
          "text": [
            "Division:\n",
            " [ 5. 10. 15. 20.]\n"
          ]
        }
      ],
      "source": [
        "# Create the array\n",
        "a = np.array([10, 20, 30, 40])\n",
        "\n",
        "# Divide array a by 2\n",
        "result_division = a / 2\n",
        "print(\"Division:\\n\",result_division)"
      ]
    },
    {
      "cell_type": "markdown",
      "metadata": {
        "id": "PVDwjp2LxE66"
      },
      "source": [
        "Q.4 Find the element-wise modulus of two arrays: a = [5, 10, 15], b = [2, 3, 4]."
      ]
    },
    {
      "cell_type": "code",
      "execution_count": 79,
      "metadata": {
        "colab": {
          "base_uri": "https://localhost:8080/"
        },
        "id": "XOdrDKTlxH2A",
        "outputId": "1ab954f0-0f3e-4fbb-a1a4-e73d1ed587bd"
      },
      "outputs": [
        {
          "name": "stdout",
          "output_type": "stream",
          "text": [
            "Modulus:\n",
            " [1 1 3]\n"
          ]
        }
      ],
      "source": [
        "# Create the arrays\n",
        "a = np.array([5, 10, 15])\n",
        "b = np.array([2, 3, 4])\n",
        "\n",
        "# Find the element-wise modulus\n",
        "result_modulus = a % b\n",
        "print(\"Modulus:\\n\",result_modulus)"
      ]
    },
    {
      "cell_type": "markdown",
      "metadata": {
        "id": "R_QMX4FexIKb"
      },
      "source": [
        "Q.5 Create two arrays: a = [1, 2, 3], b = [4, 5, 6]. Compute the dot product."
      ]
    },
    {
      "cell_type": "code",
      "execution_count": 80,
      "metadata": {
        "colab": {
          "base_uri": "https://localhost:8080/"
        },
        "id": "v4k4FPJGxS1k",
        "outputId": "ace859af-8c00-471f-bb55-fa364b4c1c03"
      },
      "outputs": [
        {
          "name": "stdout",
          "output_type": "stream",
          "text": [
            "Dot Product:\n",
            " 32\n"
          ]
        }
      ],
      "source": [
        "# Create the arrays\n",
        "a = np.array([1, 2, 3])\n",
        "b = np.array([4, 5, 6])\n",
        "\n",
        "# Compute the dot product\n",
        "result_dot_product = np.dot(a, b)\n",
        "print(\"Dot Product:\\n\",result_dot_product)"
      ]
    },
    {
      "cell_type": "markdown",
      "metadata": {
        "id": "B2WbG4GtxTf4"
      },
      "source": [
        "**Matrix Multiplication**"
      ]
    },
    {
      "cell_type": "markdown",
      "metadata": {
        "id": "NbAccwaAxXgf"
      },
      "source": [
        "Q.1 Create two matrices: a = [[2, 3], [4, 5]] and b = [[1, 0], [0, 1]]. Perform matrix\n",
        "multiplication."
      ]
    },
    {
      "cell_type": "code",
      "execution_count": 81,
      "metadata": {
        "colab": {
          "base_uri": "https://localhost:8080/"
        },
        "id": "M0loLEpVxa9f",
        "outputId": "c18cbe04-53bc-4771-9705-33b258b22f04"
      },
      "outputs": [
        {
          "name": "stdout",
          "output_type": "stream",
          "text": [
            "Matrix Multiplication:\n",
            " [[2 3]\n",
            " [4 5]]\n"
          ]
        }
      ],
      "source": [
        "# Create the matrices\n",
        "a = np.array([[2, 3], [4, 5]])\n",
        "b = np.array([[1, 0], [0, 1]])\n",
        "\n",
        "# Perform matrix multiplication\n",
        "result_matrix_multiplication = np.dot(a, b)\n",
        "print(\"Matrix Multiplication:\\n\",result_matrix_multiplication)"
      ]
    },
    {
      "cell_type": "markdown",
      "metadata": {
        "id": "O_Pjz7n7xbXv"
      },
      "source": [
        "Q.2 Multiply a 3x3 matrix with a 3x1 vector."
      ]
    },
    {
      "cell_type": "code",
      "execution_count": 82,
      "metadata": {
        "colab": {
          "base_uri": "https://localhost:8080/"
        },
        "id": "UOAN7ezQxeVP",
        "outputId": "11157dbc-da0b-4c96-d9c2-61791e7d698e"
      },
      "outputs": [
        {
          "name": "stdout",
          "output_type": "stream",
          "text": [
            "Matrix & Vector Multiplication:\n",
            " [[14]\n",
            " [32]\n",
            " [50]]\n"
          ]
        }
      ],
      "source": [
        "# Create the 3x3 matrix and 3x1 vector\n",
        "matrix_3x3 = np.array([[1, 2, 3], [4, 5, 6], [7, 8, 9]])\n",
        "vector_3x1 = np.array([[1], [2], [3]])\n",
        "\n",
        "# Perform matrix multiplication\n",
        "result_multiplication = np.dot(matrix_3x3, vector_3x1)\n",
        "print(\"Matrix & Vector Multiplication:\\n\",result_multiplication)"
      ]
    },
    {
      "cell_type": "markdown",
      "metadata": {
        "id": "KxrStQ8Exene"
      },
      "source": [
        "Q.3 Create a 4x4 identity matrix and multiply it by a 4x4 matrix filled with random\n",
        "integers."
      ]
    },
    {
      "cell_type": "code",
      "execution_count": 83,
      "metadata": {
        "colab": {
          "base_uri": "https://localhost:8080/"
        },
        "id": "3YI1Js0Gxiv6",
        "outputId": "89acc77c-39f8-460d-c816-ad16811e10a0"
      },
      "outputs": [
        {
          "name": "stdout",
          "output_type": "stream",
          "text": [
            "Identity Multiplication:\n",
            " [[2. 1. 6. 3.]\n",
            " [7. 7. 7. 6.]\n",
            " [1. 6. 1. 6.]\n",
            " [6. 3. 6. 8.]]\n"
          ]
        }
      ],
      "source": [
        "# Create the 4x4 identity matrix and the 4x4 matrix with random integers\n",
        "identity_matrix = np.eye(4)\n",
        "random_matrix = np.random.randint(1, 10, size=(4, 4))\n",
        "\n",
        "# Perform matrix multiplication\n",
        "result_identity_multiplication = np.dot(identity_matrix, random_matrix)\n",
        "print(\"Identity Multiplication:\\n\",result_identity_multiplication)"
      ]
    },
    {
      "cell_type": "markdown",
      "metadata": {
        "id": "JnlFIv0RxjPk"
      },
      "source": [
        "Q.4 Perform matrix multiplication on two 3x3 matrices: a = [[1, 2, 3], [4, 5, 6], [7, 8, 9]]\n",
        "and b = [[9, 8, 7], [6, 5, 4], [3, 2, 1]]."
      ]
    },
    {
      "cell_type": "code",
      "execution_count": 84,
      "metadata": {
        "colab": {
          "base_uri": "https://localhost:8080/"
        },
        "id": "acuf0v1_xnIB",
        "outputId": "a32cba6a-3d53-49e7-d7fc-6c20288b1063"
      },
      "outputs": [
        {
          "name": "stdout",
          "output_type": "stream",
          "text": [
            "3x3 Matrix Multiplication:\n",
            " [[ 30  24  18]\n",
            " [ 84  69  54]\n",
            " [138 114  90]]\n"
          ]
        }
      ],
      "source": [
        "# Create the matrices\n",
        "a = np.array([[1, 2, 3], [4, 5, 6], [7, 8, 9]])\n",
        "b = np.array([[9, 8, 7], [6, 5, 4], [3, 2, 1]])\n",
        "\n",
        "# Perform matrix multiplication\n",
        "result_matrix_multiplication_3x3 = np.dot(a, b)\n",
        "print(\"3x3 Matrix Multiplication:\\n\",result_matrix_multiplication_3x3)"
      ]
    },
    {
      "cell_type": "markdown",
      "metadata": {
        "id": "bgHsjFONxnyu"
      },
      "source": [
        "Q.5 Create a 2x3 matrix and a 3x2 matrix. Perform matrix multiplication."
      ]
    },
    {
      "cell_type": "code",
      "execution_count": 85,
      "metadata": {
        "colab": {
          "base_uri": "https://localhost:8080/"
        },
        "id": "OtqtgwMTxrvq",
        "outputId": "cf6cbba5-b785-4681-91c5-91bc68d1fa84"
      },
      "outputs": [
        {
          "name": "stdout",
          "output_type": "stream",
          "text": [
            "2x3 matrix & 3x2 matrix Multiplication:\n",
            " [[ 58  64]\n",
            " [139 154]]\n"
          ]
        }
      ],
      "source": [
        "# Create the matrices\n",
        "matrix_2x3 = np.array([[1, 2, 3], [4, 5, 6]])\n",
        "matrix_3x2 = np.array([[7, 8], [9, 10], [11, 12]])\n",
        "\n",
        "# Perform matrix multiplication\n",
        "result_matrix_multiplication_2x3_3x2 = np.dot(matrix_2x3, matrix_3x2)\n",
        "print(\"2x3 matrix & 3x2 matrix Multiplication:\\n\",result_matrix_multiplication_2x3_3x2)"
      ]
    },
    {
      "cell_type": "markdown",
      "metadata": {
        "id": "oQ4PqHTKxsFC"
      },
      "source": [
        "**Broadcasting**"
      ]
    },
    {
      "cell_type": "markdown",
      "metadata": {
        "id": "w0jS5N1gxwCz"
      },
      "source": [
        "Q.1 Create a 1D array: array = [10, 20, 30]. Subtract a scalar value, 5, using broadcasting."
      ]
    },
    {
      "cell_type": "code",
      "execution_count": 86,
      "metadata": {
        "colab": {
          "base_uri": "https://localhost:8080/"
        },
        "id": "dGxEU2xhxzR6",
        "outputId": "2c58cdcd-9aa3-43cb-e578-edf0837bb14b"
      },
      "outputs": [
        {
          "name": "stdout",
          "output_type": "stream",
          "text": [
            "Original array: [10 20 30]\n",
            "Resulting array after subtracting 5: [ 5 15 25]\n"
          ]
        }
      ],
      "source": [
        "# Create a 1D array\n",
        "array = np.array([10, 20, 30])\n",
        "scalar_value=5\n",
        "\n",
        "# Subtract the scalar value 5 from each element in the array using broadcasting\n",
        "result = array - scalar_value\n",
        "\n",
        "print(\"Original array:\", array)\n",
        "print(\"Resulting array after subtracting 5:\", result)"
      ]
    },
    {
      "cell_type": "markdown",
      "metadata": {
        "id": "DtL7I-zbxzld"
      },
      "source": [
        "Q.2 Create a 3x3 array and a 3x1 array. Add them using broadcasting."
      ]
    },
    {
      "cell_type": "code",
      "execution_count": 87,
      "metadata": {
        "colab": {
          "base_uri": "https://localhost:8080/"
        },
        "id": "Zgs7ghD4x2Fz",
        "outputId": "49933e65-d2a1-4901-f05a-95fc8d96ee43"
      },
      "outputs": [
        {
          "name": "stdout",
          "output_type": "stream",
          "text": [
            "\n",
            "Result of Broadcasting Addition:\n",
            " [[ 2  3  4]\n",
            " [ 6  7  8]\n",
            " [10 11 12]]\n"
          ]
        }
      ],
      "source": [
        "# Create a 3x3 array\n",
        "array_3x3 = np.array([[1, 2, 3],[4, 5, 6],[7, 8, 9]])\n",
        "# Create a 3x1 array\n",
        "array_3x1 = np.array([[1],[2],[3]])\n",
        "# Add the arrays using broadcasting\n",
        "result = array_3x3 + array_3x1\n",
        "print(\"\\nResult of Broadcasting Addition:\\n\",result)\n"
      ]
    },
    {
      "cell_type": "markdown",
      "metadata": {
        "id": "0WlqkGY7x2bs"
      },
      "source": [
        "Q.3 Divide a 4x4 array by a scalar value, 2, using broadcasting."
      ]
    },
    {
      "cell_type": "code",
      "execution_count": 88,
      "metadata": {
        "colab": {
          "base_uri": "https://localhost:8080/"
        },
        "id": "5HMiwlihx5L9",
        "outputId": "6ae6fc94-5f55-4480-e01a-756a9d69b690"
      },
      "outputs": [
        {
          "name": "stdout",
          "output_type": "stream",
          "text": [
            "\n",
            "Result of Broadcalting Dividing:\n",
            " [[0.5 1.  1.5]\n",
            " [2.  2.5 3. ]\n",
            " [3.5 4.  4.5]\n",
            " [0.5 2.  3.5]]\n"
          ]
        }
      ],
      "source": [
        "#Create 4x4 array\n",
        "array_3x3 = np.array([[1, 2, 3],[4, 5, 6],[7, 8, 9],[1, 4, 7]])\n",
        "Scalar_value=2\n",
        "#Divide the array by the scalar value\n",
        "result=array_3x3/Scalar_value\n",
        "print(\"\\nResult of Broadcalting Dividing:\\n\",result)\n"
      ]
    },
    {
      "cell_type": "markdown",
      "metadata": {
        "id": "C1HvC7Uix5hW"
      },
      "source": [
        "Q.4 Create a 3x3 array and add 3 to each element using broadcasting."
      ]
    },
    {
      "cell_type": "code",
      "execution_count": 89,
      "metadata": {
        "colab": {
          "base_uri": "https://localhost:8080/"
        },
        "id": "NLeDAi7yx8Ih",
        "outputId": "66b43e1a-0c23-40c4-d2e6-3f074dc230ce"
      },
      "outputs": [
        {
          "name": "stdout",
          "output_type": "stream",
          "text": [
            "\n",
            "Result of Broadcasting addition:\n",
            " [[ 4  5  6]\n",
            " [ 7  8  9]\n",
            " [10 11 12]]\n"
          ]
        }
      ],
      "source": [
        "# Create a 3x3 array\n",
        "array_3x3 = np.array([[1, 2, 3],[4, 5, 6],[7, 8, 9]])\n",
        "#add 3 value\n",
        "result=array_3x3+3\n",
        "print(\"\\nResult of Broadcasting addition:\\n\",result)\n"
      ]
    },
    {
      "cell_type": "markdown",
      "metadata": {
        "id": "e6efUQdex8eF"
      },
      "source": [
        "Q.5 Multiply a 1D array of shape (5,) by a 2D array of shape (5, 5) using broadcasting."
      ]
    },
    {
      "cell_type": "code",
      "execution_count": 90,
      "metadata": {
        "colab": {
          "base_uri": "https://localhost:8080/"
        },
        "id": "vttvltgiyCTg",
        "outputId": "937746dd-636a-4647-d45e-b95e89407ea3"
      },
      "outputs": [
        {
          "name": "stdout",
          "output_type": "stream",
          "text": [
            "Result of multiplication:\n",
            " [[  1   2   3   4   5]\n",
            " [ 12  14  16  18  20]\n",
            " [ 33  36  39  42  45]\n",
            " [ 64  68  72  76  80]\n",
            " [105 110 115 120 125]]\n",
            "[[  1   2   3   4   5]\n",
            " [ 12  14  16  18  20]\n",
            " [ 33  36  39  42  45]\n",
            " [ 64  68  72  76  80]\n",
            " [105 110 115 120 125]]\n"
          ]
        }
      ],
      "source": [
        "# create the 1D array\n",
        "array_1d = np.array([1, 2, 3, 4, 5])\n",
        "\n",
        "# Define the 2D array\n",
        "array_2d = np.array([\n",
        "    [1, 2, 3, 4, 5],\n",
        "    [6, 7, 8, 9, 10],\n",
        "    [11, 12, 13, 14, 15],\n",
        "    [16, 17, 18, 19, 20],\n",
        "    [21, 22, 23, 24, 25]\n",
        "])\n",
        "\n",
        "# Multiply using broadcasting\n",
        "result = array_2d * array_1d[:, np.newaxis]\n",
        "\n",
        "print(\"Result of multiplication:\\n\",result)\n",
        "print(result)"
      ]
    },
    {
      "cell_type": "markdown",
      "metadata": {
        "id": "EFMzIwH4yC3Q"
      },
      "source": [
        "**Statistical Operations**"
      ]
    },
    {
      "cell_type": "markdown",
      "metadata": {
        "id": "5vK7g_G8yF7X"
      },
      "source": [
        "Q.1 Calculate the median of the array: data = [1, 2, 3, 4, 5, 6, 7, 8, 9, 10]."
      ]
    },
    {
      "cell_type": "code",
      "execution_count": 91,
      "metadata": {
        "colab": {
          "base_uri": "https://localhost:8080/"
        },
        "id": "3r1jua3UyJ8N",
        "outputId": "bdd9937c-1a72-4ca9-ad9c-4fdcea574eba"
      },
      "outputs": [
        {
          "name": "stdout",
          "output_type": "stream",
          "text": [
            "Median: 5.5\n"
          ]
        }
      ],
      "source": [
        "# Define the data array\n",
        "data = np.array([1, 2, 3, 4, 5, 6, 7, 8, 9, 10])\n",
        "\n",
        "# Calculate the median of the array\n",
        "median = np.median(data)\n",
        "print(\"Median:\", median)"
      ]
    },
    {
      "cell_type": "markdown",
      "metadata": {
        "id": "EpN2zs1fyKRV"
      },
      "source": [
        "Q.2 Calculate the mode of the array: data = [1, 2, 2, 3, 4, 4, 4, 5, 6]."
      ]
    },
    {
      "cell_type": "code",
      "execution_count": 92,
      "metadata": {
        "colab": {
          "base_uri": "https://localhost:8080/"
        },
        "id": "Y7J1M9rUyMb_",
        "outputId": "5e27dbd1-d94a-4c87-914f-98d02aa79b2a"
      },
      "outputs": [
        {
          "name": "stdout",
          "output_type": "stream",
          "text": [
            "Mode: ModeResult(mode=4, count=3)\n"
          ]
        }
      ],
      "source": [
        "from scipy import stats\n",
        "# Sample data array\n",
        "data = np.array([1, 2, 2, 3, 4, 4, 4, 5, 6])\n",
        "\n",
        "# Calculate the mode\n",
        "mode_result = stats.mode(data)\n",
        "\n",
        "# Print the mode\n",
        "print( \"Mode:\",mode_result)"
      ]
    },
    {
      "cell_type": "markdown",
      "metadata": {
        "id": "DKN_1400yMxa"
      },
      "source": [
        "Q.3 Calculate the range of the array: data = [10, 20, 30, 40, 50]."
      ]
    },
    {
      "cell_type": "code",
      "execution_count": 93,
      "metadata": {
        "colab": {
          "base_uri": "https://localhost:8080/"
        },
        "id": "fDiam8LnyPmk",
        "outputId": "b7eeef65-72f3-4334-ee87-9545ddca0bf2"
      },
      "outputs": [
        {
          "name": "stdout",
          "output_type": "stream",
          "text": [
            "The range of the array is: 40\n"
          ]
        }
      ],
      "source": [
        "data = np.array([10, 20,30,40,50])\n",
        "range_of_data = np.ptp(data)\n",
        "print(\"The range of the array is:\", range_of_data)"
      ]
    },
    {
      "cell_type": "markdown",
      "metadata": {
        "id": "xY9isaz0yQFA"
      },
      "source": [
        "Q.4 Calculate the 25th percentile of the array: data = [1, 2, 3, 4, 5, 6, 7, 8, 9, 10]."
      ]
    },
    {
      "cell_type": "code",
      "execution_count": 94,
      "metadata": {
        "colab": {
          "base_uri": "https://localhost:8080/"
        },
        "id": "fek3jRTOyTKu",
        "outputId": "ce669043-dd6c-4c8a-dffb-0b8dea9608e3"
      },
      "outputs": [
        {
          "name": "stdout",
          "output_type": "stream",
          "text": [
            " 25th percentile of the array: 3.25\n"
          ]
        }
      ],
      "source": [
        "# Sample data array\n",
        "data = np.array([1, 3, 3, 4, 5, 6, 7, 8, 9, 10])\n",
        "\n",
        "# Calculate the 25th percentile\n",
        "percentile_25 = np.percentile(data, 25)\n",
        "\n",
        "print(\" 25th percentile of the array:\",percentile_25)"
      ]
    },
    {
      "cell_type": "markdown",
      "metadata": {
        "id": "ccNftWp6yTft"
      },
      "source": [
        "Q.5 Calculate the correlation coefficient between two arrays: a = [1, 2, 3, 4, 5] and b = [2,\n",
        "4, 6, 8, 10]."
      ]
    },
    {
      "cell_type": "code",
      "execution_count": 95,
      "metadata": {
        "colab": {
          "base_uri": "https://localhost:8080/"
        },
        "id": "5JWsoEXgyWZD",
        "outputId": "73a1b160-c24c-4a9c-929b-c98df5ac26fd"
      },
      "outputs": [
        {
          "name": "stdout",
          "output_type": "stream",
          "text": [
            "Correlation Coefficient: 0.9999999999999999\n"
          ]
        }
      ],
      "source": [
        "# Define the arrays\n",
        "a = np.array([1, 2, 3, 4, 5])\n",
        "b = np.array([2, 4, 6, 8, 10])\n",
        "\n",
        "# Calculate the correlation coefficient\n",
        "correlation_matrix = np.corrcoef(a, b)\n",
        "correlation_coefficient = correlation_matrix[0, 1]\n",
        "\n",
        "print(\"Correlation Coefficient:\", correlation_coefficient)"
      ]
    },
    {
      "cell_type": "markdown",
      "metadata": {
        "id": "s-FIJS49yWzS"
      },
      "source": [
        "**Reshaping Arrays**"
      ]
    },
    {
      "cell_type": "markdown",
      "metadata": {
        "id": "la-cwqDnyZsY"
      },
      "source": [
        "Q.1 Reshape a 1D array of 12 elements to a 3x4 array."
      ]
    },
    {
      "cell_type": "code",
      "execution_count": 96,
      "metadata": {
        "colab": {
          "base_uri": "https://localhost:8080/"
        },
        "id": "QazodgUPydV6",
        "outputId": "c0d90520-f0d5-43cb-88d8-c80f5768ff41"
      },
      "outputs": [
        {
          "name": "stdout",
          "output_type": "stream",
          "text": [
            "Original array:\n",
            "[ 0  1  2  3  4  5  6  7  8  9 10 11]\n",
            "\n",
            "Reshaped array to 3x4:\n",
            " [[ 0  1  2  3]\n",
            " [ 4  5  6  7]\n",
            " [ 8  9 10 11]]\n"
          ]
        }
      ],
      "source": [
        "# Create a 1D array with 12 elements\n",
        "array_1d = np.arange(12)\n",
        "print(\"Original array:\")\n",
        "print(array_1d)\n",
        "# Reshape the array to 3x4\n",
        "array_2d = array_1d.reshape(3, 4)\n",
        "\n",
        "print(\"\\nReshaped array to 3x4:\\n\",array_2d)"
      ]
    },
    {
      "cell_type": "markdown",
      "metadata": {
        "id": "4olDzsP5yfCn"
      },
      "source": [
        "Q.2 Reshape a 2D array of shape (6, 2) to (3, 4)."
      ]
    },
    {
      "cell_type": "code",
      "execution_count": 97,
      "metadata": {
        "colab": {
          "base_uri": "https://localhost:8080/"
        },
        "id": "ybaGvwk6ygxR",
        "outputId": "37ba293d-c8bf-47d4-e0aa-331d04d0d6f8"
      },
      "outputs": [
        {
          "name": "stdout",
          "output_type": "stream",
          "text": [
            "Original array:\n",
            "[[ 1  2]\n",
            " [ 3  4]\n",
            " [ 5  6]\n",
            " [ 7  8]\n",
            " [ 9 10]\n",
            " [11 12]]\n",
            "\n",
            "Reshaped array:\n",
            "[[ 1  2  3  4]\n",
            " [ 5  6  7  8]\n",
            " [ 9 10 11 12]]\n"
          ]
        }
      ],
      "source": [
        "# Original array of shape (6, 2)\n",
        "original_array = np.array([[1, 2], [3, 4], [5, 6], [7, 8], [9, 10], [11, 12]])\n",
        "\n",
        "# Reshape to (3, 4)\n",
        "reshaped_array = original_array.reshape(3, 4)\n",
        "\n",
        "print(\"Original array:\")\n",
        "print(original_array)\n",
        "print(\"\\nReshaped array:\")\n",
        "print(reshaped_array)"
      ]
    },
    {
      "cell_type": "markdown",
      "metadata": {
        "id": "av-Qid9myhH3"
      },
      "source": [
        "Q.3 Create a 4x4 array and flatten it."
      ]
    },
    {
      "cell_type": "code",
      "execution_count": 98,
      "metadata": {
        "colab": {
          "base_uri": "https://localhost:8080/"
        },
        "id": "rE2FfFeyyj-F",
        "outputId": "9b5a535c-499e-4fbc-a37b-81c1b7fee101"
      },
      "outputs": [
        {
          "name": "stdout",
          "output_type": "stream",
          "text": [
            "Original 4x4 array:\n",
            "[[ 1  2  3  4]\n",
            " [ 5  6  7  8]\n",
            " [ 9 10 11 12]\n",
            " [13 14 15 16]]\n",
            "\n",
            "Flattened array:\n",
            "[ 1  2  3  4  5  6  7  8  9 10 11 12 13 14 15 16]\n"
          ]
        }
      ],
      "source": [
        "# Create a 4x4 array\n",
        "array_4x4 = np.array([[1, 2, 3, 4],\n",
        "                      [5, 6, 7, 8],\n",
        "                      [9, 10, 11, 12],\n",
        "                      [13, 14, 15, 16]])\n",
        "\n",
        "# Flatten the array\n",
        "flattened_array = array_4x4.flatten()\n",
        "\n",
        "print(\"Original 4x4 array:\")\n",
        "print(array_4x4)\n",
        "print(\"\\nFlattened array:\")\n",
        "print(flattened_array)"
      ]
    },
    {
      "cell_type": "markdown",
      "metadata": {
        "id": "e4FoqJKSykYJ"
      },
      "source": [
        "Q.4 Reshape a 3D array of shape (2, 3, 4) to (4, 3, 2)."
      ]
    },
    {
      "cell_type": "code",
      "execution_count": 99,
      "metadata": {
        "colab": {
          "base_uri": "https://localhost:8080/"
        },
        "id": "ULZUJcOQym86",
        "outputId": "dc20fd1a-6cc4-473a-c963-cfcd2018c6b4"
      },
      "outputs": [
        {
          "name": "stdout",
          "output_type": "stream",
          "text": [
            "Original array shape: (2, 3, 4)\n",
            "Reshaped array shape: (4, 3, 2)\n",
            "Reshaped array:\n",
            " [[[ 0  1]\n",
            "  [ 2  3]\n",
            "  [ 4  5]]\n",
            "\n",
            " [[ 6  7]\n",
            "  [ 8  9]\n",
            "  [10 11]]\n",
            "\n",
            " [[12 13]\n",
            "  [14 15]\n",
            "  [16 17]]\n",
            "\n",
            " [[18 19]\n",
            "  [20 21]\n",
            "  [22 23]]]\n"
          ]
        }
      ],
      "source": [
        "# Create an array of shape (2, 3, 4)\n",
        "array = np.arange(24).reshape(2, 3, 4)\n",
        "\n",
        "# Reshape the array to shape (4, 3, 2)\n",
        "reshaped_array = array.reshape(4, 3, 2)\n",
        "\n",
        "print(\"Original array shape:\", array.shape)\n",
        "print(\"Reshaped array shape:\", reshaped_array.shape)\n",
        "print(\"Reshaped array:\\n\", reshaped_array)"
      ]
    },
    {
      "cell_type": "markdown",
      "metadata": {
        "id": "3IcGROeCynTt"
      },
      "source": [
        "Q.5 Reshape a 1D array to a 2D array with 1 row and many columns."
      ]
    },
    {
      "cell_type": "code",
      "execution_count": 100,
      "metadata": {
        "colab": {
          "base_uri": "https://localhost:8080/"
        },
        "id": "8Gy84MXhyqXS",
        "outputId": "d3ed2725-b419-42c2-c331-b63ad10cfcb5"
      },
      "outputs": [
        {
          "name": "stdout",
          "output_type": "stream",
          "text": [
            "Array 1D: [1 2 3 4 5 6]\n",
            "\n",
            "Reshape a 1D array:\n",
            " [[1 2 3 4 5 6]]\n"
          ]
        }
      ],
      "source": [
        "# Create a 1D array\n",
        "array_1d = np.array([1, 2, 3, 4, 5, 6])\n",
        "print(\"Array 1D:\",array_1d)\n",
        "# Reshape the 1D array to a 2D array with 1 row and many columns\n",
        "array_2d = array_1d.reshape(1, -1)\n",
        "\n",
        "print(\"\\nReshape a 1D array:\\n\",array_2d)"
      ]
    },
    {
      "cell_type": "markdown",
      "metadata": {
        "id": "n_T6Z_EHyqzg"
      },
      "source": [
        "**Element-wise Operations**"
      ]
    },
    {
      "cell_type": "markdown",
      "metadata": {
        "id": "-nQV1Dzuyuz3"
      },
      "source": [
        "Q.1 Create two arrays: a = [1, 3, 5] and b = [2, 4, 6]. Perform element-wise division."
      ]
    },
    {
      "cell_type": "code",
      "execution_count": 101,
      "metadata": {
        "colab": {
          "base_uri": "https://localhost:8080/"
        },
        "id": "hozpJzkkyuXm",
        "outputId": "30572feb-83be-48dd-dc5d-b31cc5d8a86d"
      },
      "outputs": [
        {
          "name": "stdout",
          "output_type": "stream",
          "text": [
            "Division: [0.5        0.75       0.83333333]\n"
          ]
        }
      ],
      "source": [
        "# create Arrays\n",
        "a = [1, 3, 5]\n",
        "b = [2, 4, 6]\n",
        "# element-wise division\n",
        "Division=np.divide(a,b)\n",
        "print(\"Division:\",Division)"
      ]
    },
    {
      "cell_type": "markdown",
      "metadata": {
        "id": "8j09Gx1Myx6b"
      },
      "source": [
        "Q.2 Create two arrays: a = [2, 4, 6] and b = [1, 3, 5]. Perform element-wise modulus."
      ]
    },
    {
      "cell_type": "code",
      "execution_count": 102,
      "metadata": {
        "colab": {
          "base_uri": "https://localhost:8080/"
        },
        "id": "2Tuch-BBy0cJ",
        "outputId": "b2770532-0bcb-4bbd-d0dc-a9326b87e518"
      },
      "outputs": [
        {
          "name": "stdout",
          "output_type": "stream",
          "text": [
            "Modulus: [0 1 1]\n"
          ]
        }
      ],
      "source": [
        "# create Arrays\n",
        "b = [1, 3, 5]\n",
        "a = [2, 4, 6]\n",
        "#element-wise modulus\n",
        "Modulus=np.mod(a,b)\n",
        "print(\"Modulus:\",Modulus)"
      ]
    },
    {
      "cell_type": "markdown",
      "metadata": {
        "id": "T2ZWDY4cy0vb"
      },
      "source": [
        "Q.3 Add 10 to each element in the array: a = [1, 2, 3, 4, 5]."
      ]
    },
    {
      "cell_type": "code",
      "execution_count": 103,
      "metadata": {
        "colab": {
          "base_uri": "https://localhost:8080/"
        },
        "id": "SHqYZ5hjy3Xv",
        "outputId": "9963b688-1c44-4b48-e18b-2e81f244abb6"
      },
      "outputs": [
        {
          "name": "stdout",
          "output_type": "stream",
          "text": [
            "Added 10 to each element:  [11 12 13 14 15]\n"
          ]
        }
      ],
      "source": [
        "# create array\n",
        "a = [1, 2, 3, 4, 5]\n",
        "#Add 10 to each element in the array\n",
        "add=np.add(a,10)\n",
        "print(\"Added 10 to each element: \",add)"
      ]
    },
    {
      "cell_type": "markdown",
      "metadata": {
        "id": "NGaWmicUy3qP"
      },
      "source": [
        "Q.4 Subtract 5 from each element in the array: b = [10, 20, 30, 40, 50]."
      ]
    },
    {
      "cell_type": "code",
      "execution_count": 104,
      "metadata": {
        "colab": {
          "base_uri": "https://localhost:8080/"
        },
        "id": "wN8e5r8Hy6kN",
        "outputId": "c4949d08-65a0-4a17-9e50-2c4734f1ca39"
      },
      "outputs": [
        {
          "name": "stdout",
          "output_type": "stream",
          "text": [
            "Subtract 5 from each element: [ 5 15 25 35 45]\n"
          ]
        }
      ],
      "source": [
        "#create array\n",
        "b = [10, 20, 30, 40, 50]\n",
        "#Subtract 5 from each element in the array\n",
        "subtract=np.subtract(b,5)\n",
        "print(\"Subtract 5 from each element:\",subtract)"
      ]
    },
    {
      "cell_type": "markdown",
      "metadata": {
        "id": "5Va_IO4Py7AI"
      },
      "source": [
        "Q.5 Square each element in the array: c = [1, 2, 3, 4, 5]."
      ]
    },
    {
      "cell_type": "code",
      "execution_count": 105,
      "metadata": {
        "colab": {
          "base_uri": "https://localhost:8080/"
        },
        "id": "JUSJgGPk9mov",
        "outputId": "6da14e57-e6d5-4332-cf8c-b650736934ef"
      },
      "outputs": [
        {
          "name": "stdout",
          "output_type": "stream",
          "text": [
            " Square each element: [ 1  4  9 16 25]\n"
          ]
        }
      ],
      "source": [
        "#Create a 1D array\n",
        "c = np.array([1, 2, 3, 4, 5])\n",
        "#Square each element in the array\n",
        "squared_c = np.square(c)\n",
        "print(\" Square each element:\",squared_c)"
      ]
    },
    {
      "cell_type": "markdown",
      "metadata": {
        "id": "SWem7Xaqy-IY"
      },
      "source": [
        "**Slicing and Indexing**"
      ]
    },
    {
      "cell_type": "markdown",
      "metadata": {
        "id": "fhTexG4UzBRA"
      },
      "source": [
        "Q.1 Create a 3D array: array_3d = [[[1, 2, 3], [4, 5, 6]], [[7, 8, 9], [10, 11, 12]]]. Access\n",
        "the element at [1, 1, 1]."
      ]
    },
    {
      "cell_type": "code",
      "execution_count": 106,
      "metadata": {
        "colab": {
          "base_uri": "https://localhost:8080/"
        },
        "id": "4gC34UXszEPd",
        "outputId": "46b676a9-cb18-4223-f934-5e5efc9dc765"
      },
      "outputs": [
        {
          "name": "stdout",
          "output_type": "stream",
          "text": [
            "element at [1, 1, 1]: 11\n"
          ]
        }
      ],
      "source": [
        "# Create a 3D array\n",
        "array_3d = np.array([[[1, 2, 3], [4, 5, 6]], [[7, 8, 9], [10, 11, 12]]])\n",
        "#Access the element at [1, 1, 1].\n",
        "element_at_1=array_3d[1, 1, 1]\n",
        "print(\"element at [1, 1, 1]:\",element_at_1)"
      ]
    },
    {
      "cell_type": "markdown",
      "metadata": {
        "id": "QinR2p-ezFJn"
      },
      "source": [
        "Q.2 Slice the first layer of a 3D array: array_3d = [[[1, 2, 3], [4, 5, 6]], [[7, 8, 9], [10, 11,\n",
        "12]]]."
      ]
    },
    {
      "cell_type": "code",
      "execution_count": 107,
      "metadata": {
        "colab": {
          "base_uri": "https://localhost:8080/"
        },
        "id": "PXa7B51ozIMQ",
        "outputId": "3732d72e-58bc-4c99-e54a-fdff4bf82098"
      },
      "outputs": [
        {
          "name": "stdout",
          "output_type": "stream",
          "text": [
            " first layer of a 3D array: [[1 2 3]\n",
            " [4 5 6]]\n"
          ]
        }
      ],
      "source": [
        "# Create a 3D array\n",
        "array_3d = np.array([[[1, 2, 3], [4, 5, 6]], [[7, 8, 9], [10, 11, 12]]])\n",
        "# Slice the first layer of a 3D array\n",
        "first_layer_slice = array_3d[0]\n",
        "print(\" first layer of a 3D array:\",first_layer_slice)\n"
      ]
    },
    {
      "cell_type": "markdown",
      "metadata": {
        "id": "SomCdk5azHm7"
      },
      "source": [
        "Q.3 Access all elements in the last row of the array: array_2d = [[10, 20, 30], [40, 50, 60],\n",
        "[70, 80, 90]]."
      ]
    },
    {
      "cell_type": "code",
      "execution_count": 108,
      "metadata": {
        "colab": {
          "base_uri": "https://localhost:8080/"
        },
        "id": "3C4W3FL0zMEd",
        "outputId": "43458acd-fb5e-4d31-d6c3-0e6b83624607"
      },
      "outputs": [
        {
          "name": "stdout",
          "output_type": "stream",
          "text": [
            " last row of the array: [70 80 90]\n"
          ]
        }
      ],
      "source": [
        "#Create a 2D array\n",
        "array_2d = np.array([[10, 20, 30], [40, 50, 60], [70, 80, 90]])\n",
        "#Access all elements in the last row of the array\n",
        "last_row = array_2d[-1]\n",
        "print(\" last row of the array:\",last_row)"
      ]
    },
    {
      "cell_type": "markdown",
      "metadata": {
        "id": "J8lEuNT5zMah"
      },
      "source": [
        "Q.4 Access all elements in the first column of the array: array_2d = [[10, 20, 30], [40, 50,\n",
        "60], [70, 80, 90]]."
      ]
    },
    {
      "cell_type": "code",
      "execution_count": 109,
      "metadata": {
        "colab": {
          "base_uri": "https://localhost:8080/"
        },
        "id": "_vHtBb1NzQuh",
        "outputId": "08d1a6c3-753d-48aa-a9b6-89410974d188"
      },
      "outputs": [
        {
          "name": "stdout",
          "output_type": "stream",
          "text": [
            "all elements in the first column:\n",
            " [10 40 70]\n"
          ]
        }
      ],
      "source": [
        "array_2d = np.array([[10, 20, 30], [40, 50, 60], [70, 80, 90]])\n",
        "# Access all elements in the first column of the array\n",
        "last_row = array_2d[:,0]\n",
        "print(\"all elements in the first column:\\n\",last_row)"
      ]
    },
    {
      "cell_type": "markdown",
      "metadata": {
        "id": "j6V827tnzRE4"
      },
      "source": [
        "Q.5 Slice the last two rows and columns of the array: array_2d = [[10, 20, 30], [40, 50,\n",
        "60], [70, 80, 90]]."
      ]
    },
    {
      "cell_type": "code",
      "execution_count": 110,
      "metadata": {
        "colab": {
          "base_uri": "https://localhost:8080/"
        },
        "id": "8HfPU9GozUod",
        "outputId": "a431ffc7-ae17-4bb3-8b57-35705a46b225"
      },
      "outputs": [
        {
          "name": "stdout",
          "output_type": "stream",
          "text": [
            "the last two rows and columns of the array:\n",
            " [[50 60]\n",
            " [80 90]]\n"
          ]
        }
      ],
      "source": [
        "#Slice the last two rows and columns of the array\n",
        "Last_two_rows=array_2d[-2:,-2:]\n",
        "print(\"the last two rows and columns of the array:\\n\",Last_two_rows)"
      ]
    },
    {
      "cell_type": "markdown",
      "metadata": {
        "id": "nYwOJn6jzVHf"
      },
      "source": [
        "**Creating Random Arrays**"
      ]
    },
    {
      "cell_type": "markdown",
      "metadata": {
        "id": "Ao5y2t_RzY_T"
      },
      "source": [
        "Q.1 Generate a random array of 20 elements with values between 0 and 1."
      ]
    },
    {
      "cell_type": "code",
      "execution_count": 111,
      "metadata": {
        "colab": {
          "base_uri": "https://localhost:8080/"
        },
        "id": "H50VaiSfzbTs",
        "outputId": "3beb3386-cf60-4549-cfa5-c22a95ad02c7"
      },
      "outputs": [
        {
          "name": "stdout",
          "output_type": "stream",
          "text": [
            "a random array of 20 elements: [0 0 0 0 0 0 0 0 0 0 0 0 0 0 0 0 0 0 0 0]\n"
          ]
        }
      ],
      "source": [
        "#Generate a random array\n",
        "random_array=np.random.randint(0,1,size=20)\n",
        "print(\"a random array of 20 elements:\",random_array)"
      ]
    },
    {
      "cell_type": "markdown",
      "metadata": {
        "id": "AIEX96xVzb5K"
      },
      "source": [
        "Q.2 Create a 4x4 array with random integers between 10 and 20."
      ]
    },
    {
      "cell_type": "code",
      "execution_count": 112,
      "metadata": {
        "colab": {
          "base_uri": "https://localhost:8080/"
        },
        "id": "ToZkprZuzePp",
        "outputId": "649cc0ca-657e-4e7e-ef9e-089c3026dec7"
      },
      "outputs": [
        {
          "name": "stdout",
          "output_type": "stream",
          "text": [
            "a 4x4 array with random integers :\n",
            " [[18 13 16 10]\n",
            " [12 17 19 16]\n",
            " [14 16 18 14]\n",
            " [14 19 17 18]]\n"
          ]
        }
      ],
      "source": [
        "# Create a 4x4 array with random integers\n",
        "random_array=np.random.randint(10,20,size=(4,4))\n",
        "print(\"a 4x4 array with random integers :\\n\",random_array)"
      ]
    },
    {
      "cell_type": "markdown",
      "metadata": {
        "id": "3R3kzNdkzgiQ"
      },
      "source": [
        "Q.3 Create a 3x3 array with random floats between -1 and 1."
      ]
    },
    {
      "cell_type": "code",
      "execution_count": 113,
      "metadata": {
        "colab": {
          "base_uri": "https://localhost:8080/"
        },
        "id": "QdPmWFSkzf_j",
        "outputId": "f714c77d-2f34-48cd-89b3-c079fb5927e4"
      },
      "outputs": [
        {
          "name": "stdout",
          "output_type": "stream",
          "text": [
            "a 3x3 array with random floats:\n",
            " [[-0.39101162  0.6228177  -0.23457112]\n",
            " [ 0.60472798 -0.31356206  0.55321881]\n",
            " [ 0.7081545  -0.86606311  0.4972413 ]]\n"
          ]
        }
      ],
      "source": [
        "#Create a 3x3 array with random floats between -1 and 1.\n",
        "random_array=np.random.uniform(-1,1,size=(3,3))\n",
        "print(\"a 3x3 array with random floats:\\n\",random_array)"
      ]
    },
    {
      "cell_type": "markdown",
      "metadata": {
        "id": "AnzXf1p-zi0-"
      },
      "source": [
        "Q.4 Generate an array of 15 random integers between 100 and 200."
      ]
    },
    {
      "cell_type": "code",
      "execution_count": 114,
      "metadata": {
        "colab": {
          "base_uri": "https://localhost:8080/"
        },
        "id": "lfO60jbTzlxx",
        "outputId": "9fadd00c-95a7-421d-e47e-5a7e314c0355"
      },
      "outputs": [
        {
          "name": "stdout",
          "output_type": "stream",
          "text": [
            " an array of 15 random integers: [128 115 160 180 179 168 131 184 121 159 147 116 186 153 136]\n"
          ]
        }
      ],
      "source": [
        "#Generate an array of 15 random integers between 100 and 200.\n",
        "random_array=np.random.randint(100,200,size=15)\n",
        "print(\" an array of 15 random integers:\",random_array)"
      ]
    },
    {
      "cell_type": "markdown",
      "metadata": {
        "id": "yOeFA7TLzmI7"
      },
      "source": [
        "Q.5 Create a 5x5 array with random floats between 0 and 10."
      ]
    },
    {
      "cell_type": "code",
      "execution_count": 115,
      "metadata": {
        "colab": {
          "base_uri": "https://localhost:8080/"
        },
        "id": "-61V6TKMziWT",
        "outputId": "8278a246-7623-4caf-a6a9-3306524c0a05"
      },
      "outputs": [
        {
          "name": "stdout",
          "output_type": "stream",
          "text": [
            "a 5x5 array with random floats:\n",
            " [[4.61754371 6.81845897 4.0556972  3.64919985 0.74611453]\n",
            " [4.06194545 7.9539775  1.68354126 7.28970715 1.12160381]\n",
            " [9.49636438 4.64671909 7.45336019 4.79249814 3.89401125]\n",
            " [2.39316967 5.04352839 5.02486493 3.36729399 4.96297182]\n",
            " [6.31110727 8.45899867 3.44237962 5.36074651 6.61031989]]\n"
          ]
        }
      ],
      "source": [
        "#Create a 5x5 array with random floats between 0 and 10.\n",
        "random_array=np.random.uniform(0,10,size=(5,5))\n",
        "print(\"a 5x5 array with random floats:\\n\",random_array)"
      ]
    },
    {
      "cell_type": "markdown",
      "metadata": {
        "id": "F7ugcHtizoux"
      },
      "source": [
        "**Stacking and Concatenating Arrays**"
      ]
    },
    {
      "cell_type": "markdown",
      "metadata": {
        "id": "-g2B83qWzsQp"
      },
      "source": [
        "Q.1 Vertically stack two arrays: a = [[1, 2], [3, 4]] and b = [[5, 6], [7, 8]]."
      ]
    },
    {
      "cell_type": "code",
      "execution_count": 116,
      "metadata": {
        "colab": {
          "base_uri": "https://localhost:8080/"
        },
        "id": "u06ztfp1zu_K",
        "outputId": "55aa5fb6-0788-422d-af80-f3e075198a3c"
      },
      "outputs": [
        {
          "name": "stdout",
          "output_type": "stream",
          "text": [
            "Vertically stack two arrays:\n",
            " [[1 2]\n",
            " [3 4]\n",
            " [5 6]\n",
            " [7 8]]\n"
          ]
        }
      ],
      "source": [
        "#create 2 arrays\n",
        "a = [[1, 2], [3, 4]]\n",
        "b = [[5, 6], [7, 8]]\n",
        "#Vertically stack two arrays:\n",
        "stacked_array=np.vstack((a,b))\n",
        "print(\"Vertically stack two arrays:\\n\",stacked_array)\n"
      ]
    },
    {
      "cell_type": "markdown",
      "metadata": {
        "id": "3mSahp4ezuk7"
      },
      "source": [
        "Q.2 Horizontally stack two arrays: a = [[1, 2], [3, 4]] and b = [[5, 6], [7, 8]]."
      ]
    },
    {
      "cell_type": "code",
      "execution_count": 117,
      "metadata": {
        "colab": {
          "base_uri": "https://localhost:8080/"
        },
        "id": "-4zoudaCzygr",
        "outputId": "e2fe4feb-3024-4e97-a0a1-552b6ad21c1c"
      },
      "outputs": [
        {
          "name": "stdout",
          "output_type": "stream",
          "text": [
            "Horizontally stack two arrays:\n",
            " [[1 2 5 6]\n",
            " [3 4 7 8]]\n"
          ]
        }
      ],
      "source": [
        "#Horizontally stack two arrays\n",
        "stacked_array=np.hstack((a,b))\n",
        "print(\"Horizontally stack two arrays:\\n\",stacked_array)"
      ]
    },
    {
      "cell_type": "markdown",
      "metadata": {
        "id": "-3c2IenPzy75"
      },
      "source": [
        "Q.3 Concatenate two 1D arrays: a = [1, 2, 3] and b = [4, 5, 6]."
      ]
    },
    {
      "cell_type": "code",
      "execution_count": 118,
      "metadata": {
        "colab": {
          "base_uri": "https://localhost:8080/"
        },
        "id": "VWXLYn_Rz05w",
        "outputId": "ca27540a-cf5b-4c29-f0a8-f747a1844a6f"
      },
      "outputs": [
        {
          "name": "stdout",
          "output_type": "stream",
          "text": [
            "Concatenate two 1D arrays:\n",
            " [1 2 3 4 5 6]\n"
          ]
        }
      ],
      "source": [
        "#create 2 1D arrays\n",
        "a = [1, 2, 3]\n",
        "b = [4, 5, 6]\n",
        "#Concatenate two 1D arrays\n",
        "Concatenated_array=np.concatenate((a,b))\n",
        "print(\"Concatenate two 1D arrays:\\n\",Concatenated_array)\n"
      ]
    },
    {
      "cell_type": "markdown",
      "metadata": {
        "id": "EyXFrdJ6z1RZ"
      },
      "source": [
        "Q.4 Concatenate two 3x3 arrays along rows: a = [[1, 2, 3], [4, 5, 6], [7, 8, 9]] and b = [[10,\n",
        "11, 12], [13, 14, 15], [16, 17, 18]]."
      ]
    },
    {
      "cell_type": "code",
      "execution_count": 119,
      "metadata": {
        "colab": {
          "base_uri": "https://localhost:8080/"
        },
        "id": "dZWD9bFGz4G9",
        "outputId": "4ff6e891-9232-4854-8d77-ff864cf88f47"
      },
      "outputs": [
        {
          "name": "stdout",
          "output_type": "stream",
          "text": [
            "Concatenate two 3x3 arrays along rows:\n",
            " [[ 1  2  3]\n",
            " [ 4  5  6]\n",
            " [ 7  8  9]\n",
            " [10 11 12]\n",
            " [13 14 15]\n",
            " [16 17 18]]\n"
          ]
        }
      ],
      "source": [
        "#Create 2 3x3 arrays\n",
        "a = [[1, 2, 3], [4, 5, 6], [7, 8, 9]]\n",
        "b = [[10,11, 12], [13, 14, 15], [16, 17, 18]]\n",
        "#Concatenate two 3x3 arrays along rows\n",
        "Concatenated_array=np.concatenate((a,b),axis=0)\n",
        "print(\"Concatenate two 3x3 arrays along rows:\\n\",Concatenated_array)\n"
      ]
    },
    {
      "cell_type": "markdown",
      "metadata": {
        "id": "NH-PP17Uz4dI"
      },
      "source": [
        "Q.5 Concatenate two 3x3 arrays along columns: a = [[1, 2, 3], [4, 5, 6], [7, 8, 9]] and b =\n",
        "[[10, 11, 12], [13, 14, 15], [16, 17, 18]]."
      ]
    },
    {
      "cell_type": "code",
      "execution_count": 120,
      "metadata": {
        "colab": {
          "base_uri": "https://localhost:8080/"
        },
        "id": "Deh2-reEz7FR",
        "outputId": "66afb7ad-ff01-4ea4-9766-2bc252118bff"
      },
      "outputs": [
        {
          "name": "stdout",
          "output_type": "stream",
          "text": [
            "Concatenate two 3x3 arrays along columns:\n",
            " [[ 1  2  3 10 11 12]\n",
            " [ 4  5  6 13 14 15]\n",
            " [ 7  8  9 16 17 18]]\n"
          ]
        }
      ],
      "source": [
        "#Concatenate two 3x3 arrays along column\n",
        "Concatenated_array=np.concatenate((a,b),axis=1)\n",
        "print(\"Concatenate two 3x3 arrays along columns:\\n\",Concatenated_array)\n"
      ]
    }
  ],
  "metadata": {
    "colab": {
      "provenance": []
    },
    "kernelspec": {
      "display_name": "Python 3",
      "name": "python3"
    },
    "language_info": {
      "codemirror_mode": {
        "name": "ipython",
        "version": 3
      },
      "file_extension": ".py",
      "mimetype": "text/x-python",
      "name": "python",
      "nbconvert_exporter": "python",
      "pygments_lexer": "ipython3",
      "version": "3.12.2"
    }
  },
  "nbformat": 4,
  "nbformat_minor": 0
}
